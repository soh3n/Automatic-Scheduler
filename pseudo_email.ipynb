{
 "cells": [
  {
   "cell_type": "code",
   "execution_count": 15,
   "metadata": {},
   "outputs": [],
   "source": [
    "import os\n",
    "from openai import OpenAI\n",
    "from dotenv import load_dotenv\n",
    "import random\n",
    "import json\n",
    "from datetime import datetime, timedelta"
   ]
  },
  {
   "cell_type": "code",
   "execution_count": 16,
   "metadata": {},
   "outputs": [],
   "source": [
    "# Load the environment variables from the .env file\n",
    "# In this .env, it contains openai's API Key.\n",
    "load_dotenv()\n",
    "# Load the key to call the client.\n",
    "client = OpenAI()"
   ]
  },
  {
   "cell_type": "code",
   "execution_count": 17,
   "metadata": {},
   "outputs": [],
   "source": [
    "# \n",
    "def get_completion(sys_prompt, prompt, model=\"gpt-4o-mini\"):\n",
    "    '''\n",
    "    prompt: \n",
    "    model: \n",
    "    '''\n",
    "    messages = [\n",
    "        {\"role\": \"system\", \"content\": sys_prompt},\n",
    "        {\"role\": \"user\", \"content\": prompt}\n",
    "        ]\n",
    "    response = openai.ChatCompletion.create(\n",
    "        model=model,\n",
    "        messages=messages,\n",
    "        temperature=0, # 模型输出的温度系数，控制输出的随机程度\n",
    "    )\n",
    "    # 调用 OpenAI 的 ChatCompletion 接口\n",
    "    return response.choices[0].message[\"content\"]\n",
    "    # return completion.choices[0].message.content"
   ]
  },
  {
   "cell_type": "code",
   "execution_count": 34,
   "metadata": {},
   "outputs": [
    {
     "name": "stdout",
     "output_type": "stream",
     "text": [
      "{'Spam': 'No', 'Subject': 'Briefint session changed to 9:30 this morning', 'Sender': \"Mia O'Connor\", 'Time_Sensitive': 'Yes', 'Start': '2024-11-11 09:30', 'End': '2024-11-11 10:00', 'Type': 'Event', 'Category': 'Work', 'Format': 'Online', 'Location': 'Microsoft Teams', 'Action_Required': 'Yes', 'Priority_Level': 'Urgent'}\n"
     ]
    }
   ],
   "source": [
    "pseudo_labels = \"./data/pseudo_email_labels_refined_manually.json\"\n",
    "with open(pseudo_labels, 'r') as file:\n",
    "    data = json.load(file)\n",
    "\n",
    "# Now 'data' holds the content of the JSON file as a Python dictionary\n",
    "print(data[0])"
   ]
  },
  {
   "cell_type": "code",
   "execution_count": 42,
   "metadata": {},
   "outputs": [],
   "source": [
    "def label_to_prompt(entry):\n",
    "    email_info = f\"\"\"\n",
    "    You will write this email about {entry['Category']} as {entry['Sender']}. \\\n",
    "    The subject of the email is: \"{entry['Subject']}\"; \\\n",
    "    Is this email time-sensitive? {entry['Time_Sensitive']}; \\\n",
    "    (Don't mention time-sensitivity explicitly); \\\n",
    "    The session will start at {entry['Start']} and end at {entry['End']}. \\\n",
    "    (If the timestamp is given, make sure to include the date and time in the email in a natural way.) \\\n",
    "    This is a {entry['Format']} item held in {entry['Location']}. \\\n",
    "    Do you expect any kind of action (like reply, submission or others)? {entry['Action_Required']}. \\\n",
    "    (Ensure the email requests the recipients to take action if required (e.g., reply, confirm attendance, or ask questions).) \\\n",
    "    The urgency of this email is {entry['Priority_Level']}.\n",
    "    \"\"\"\n",
    "    return email_info"
   ]
  },
  {
   "cell_type": "markdown",
   "metadata": {},
   "source": [
    "## 1. Manually modify the emails\n",
    "## 2. Use labeled real emails as prompt as well\n",
    "## 3. Finish the prompt, test with GPT4o"
   ]
  },
  {
   "cell_type": "code",
   "execution_count": null,
   "metadata": {},
   "outputs": [],
   "source": [
    "eg_email_prompt0 = label_to_prompt(data[0])\n",
    "eg_email0 = f\"\"\"\n",
    "Subject: Briefing Session Changed to 9:30 This Morning\n",
    "\n",
    "Dear Team,\n",
    "\n",
    "Please be informed that the briefing session scheduled for today has been rescheduled. The session will now take place online via Microsoft Teams from 9:30 AM to 10:00 AM on Monday, November 11, 2024.\n",
    "To ensure everything runs smoothly, kindly confirm your attendance or reach out if you have any questions or concerns about accessing the session.\n",
    "Thank you for your prompt attention to this update.\n",
    "\n",
    "Best regards,\n",
    "Mia O’Connor\n",
    "\"\"\""
   ]
  },
  {
   "cell_type": "code",
   "execution_count": null,
   "metadata": {},
   "outputs": [],
   "source": [
    "eg_email_prompt1 = label_to_prompt(data[10])\n",
    "eg_email1 = f\"\"\"\n",
    "Subject: Coffee Catch-Up with Hugo on November 16th!\n",
    "\n",
    "Dear All,\n",
    "\n",
    "I hope this message finds you well! I’d love to invite you to a coffee catch-up on Saturday, November 16, 2024, from 9:00 AM to 10:45 AM. We’ll meet in person at Starbucks in the Student Union\n",
    "This is a relaxed and informal gathering—feel free to drop by and enjoy a chat over coffee. No RSVP is required; just bring your great vibes and let’s have a wonderful time!\n",
    "Looking forward to seeing you there.\n",
    "\n",
    "Warm regards,\n",
    "Hugo Dupont\n",
    "\"\"\""
   ]
  },
  {
   "cell_type": "code",
   "execution_count": 51,
   "metadata": {},
   "outputs": [
    {
     "data": {
      "text/plain": [
       "'\\n    You will write this email about Leisure as Hugo Dupont.     The subject of the email is: \"Coffee Catch-Up with Hugo on November 16th!\";     Is this email time-sensitive? Yes;     (Don\\'t mention time-sensitivity explicitly);     The session will start at 2024-11-16 09:00 and end at 2024-11-16 10:45.     (If the timestamp is given, make sure to include the date and time in the email in a natural way.)     This is a In-person item held in Starbucks in Student Union.     Do you expect any kind of action (like reply, submission or others)? No.     (Ensure the email requests the recipients to take action if required (e.g., reply, confirm attendance, or ask questions).)     The urgency of this email is Low.\\n    '"
      ]
     },
     "execution_count": 51,
     "metadata": {},
     "output_type": "execute_result"
    }
   ],
   "source": [
    "eg_email_prompt1"
   ]
  },
  {
   "cell_type": "code",
   "execution_count": null,
   "metadata": {},
   "outputs": [],
   "source": [
    "system_prompt = f\"\"\"\n",
    "You are a professional email writer with expertise in crafting clear, concise,\\\n",
    "and engaging emails for different purposes. You can write formal business emails, \\\n",
    "friendly personal emails, academic based emails, and much more. \\\n",
    "Your tone, structure, and content adapt based on the context and audience. \\\n",
    "Be as nature as possible.\n",
    "\"\"\"\n",
    "\n",
    "task_prompt = f\"\"\"\n",
    "Your task is to write an email based on a brief conclusion message. Here is an example: \\\n",
    "Email Conclusion: {eg_email_prompt0} \\\n",
    "Email: {eg_email0}; \\\n",
    "Email Conclusion: {eg_email_prompt1} \\\n",
    "Email: {eg_email1}\n",
    "Email Conclusion: {eg_email_prompt_current} \\\n",
    "Email: \n",
    "\"\"\""
   ]
  }
 ],
 "metadata": {
  "kernelspec": {
   "display_name": "nlp",
   "language": "python",
   "name": "python3"
  },
  "language_info": {
   "codemirror_mode": {
    "name": "ipython",
    "version": 3
   },
   "file_extension": ".py",
   "mimetype": "text/x-python",
   "name": "python",
   "nbconvert_exporter": "python",
   "pygments_lexer": "ipython3",
   "version": "3.10.14"
  }
 },
 "nbformat": 4,
 "nbformat_minor": 2
}
