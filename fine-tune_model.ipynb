{
 "cells": [
  {
   "cell_type": "code",
   "execution_count": 67,
   "metadata": {},
   "outputs": [],
   "source": [
    "import json\n",
    "from openai import OpenAI\n",
    "from dotenv import load_dotenv\n",
    "import ast\n",
    "from utils.gpt_utils import gpt_completion"
   ]
  },
  {
   "cell_type": "code",
   "execution_count": 41,
   "metadata": {},
   "outputs": [],
   "source": [
    "load_dotenv()\n",
    "# Load the key to call the client.\n",
    "client = OpenAI()\n",
    "# model_name=\"gpt-4o-mini\""
   ]
  },
  {
   "cell_type": "markdown",
   "metadata": {},
   "source": [
    "## 1. Prepare data to JSONL file"
   ]
  },
  {
   "cell_type": "code",
   "execution_count": 59,
   "metadata": {},
   "outputs": [],
   "source": [
    "train_data_path = \"./data/PAIRED_train.json\"\n",
    "with open(train_data_path, 'r') as file:\n",
    "    train_data = json.load(file)\n",
    "\n",
    "test_data_path = \"./data/PAIRED_test.json\"\n",
    "with open(test_data_path, 'r') as file:\n",
    "    test_data = json.load(file)"
   ]
  },
  {
   "cell_type": "code",
   "execution_count": 71,
   "metadata": {},
   "outputs": [],
   "source": [
    "system_prompt = \"\"\"You are a personal secretary. You are an expert of analyzing emails and summarize\n",
    "them into required form.\n",
    "\"\"\"\n",
    "\n",
    "task_prompt_eg = f\"\"\"Your task is to analyze received emails and label them into the following template:\n",
    "{{\n",
    "    \"Spam\": \"Yes\" / \"No\",\n",
    "    \"Subject\": \"string\",\n",
    "    \"Sender\": \"string\",\n",
    "    \"send_date\": \"YYYY-MM-DD\",\n",
    "    \"Time_Sensitive\": \"Yes\" / \"No\",\n",
    "    \"Start\": \"YYYY-MM-DD HH:MM\",\n",
    "    \"End\": \"YYYY-MM-DD HH:MM\",\n",
    "    \"Type\": \"Event\" / \"Reminder\" / \"N/A\",\n",
    "    \"Category\": \"Work\" / \"Study\" / \"Leisure\",\n",
    "    \"Format\": \"Online\" / \"In-person\",\n",
    "    \"Location\": \"string\",\n",
    "    \"Action_Required\": \"Yes\" / \"No\",\n",
    "    \"Priority_Level\": \"Low\" / \"Medium\" / \"High\" / \"Urgent\"\n",
    "}}\n",
    "\n",
    "### Instructions:\n",
    "1. Every key in the template is required, and the value for each key must be provided.\n",
    "2. Use the following formats:\n",
    "   - **Time**: 'YYYY-MM-DD HH:MM' (e.g., '1992-01-10 15:30')\n",
    "   - **Date**: 'YYYY-MM-DD' (e.g., '1992-01-10')\n",
    "3. Analyze the email content carefully to extract the appropriate values for each field.\n",
    "4. Email with only a start stamp is more likely a reminder; with both start and end stamp is an event\n",
    "\n",
    "\"\"\"\n",
    "\n",
    "def generate_prompt(entry):\n",
    "    example = f\"\"\"\n",
    "    Email: {entry['content']},\n",
    "    Label:\n",
    "    \"\"\"\n",
    "    sys_prompt = system_prompt\n",
    "    task_prompt =  task_prompt_eg + example\n",
    "    assis_answer = f\"\"\"{entry['label']}\"\"\"\n",
    "    return sys_prompt, task_prompt, assis_answer"
   ]
  },
  {
   "cell_type": "code",
   "execution_count": 72,
   "metadata": {},
   "outputs": [],
   "source": [
    "fine_tune_data = []"
   ]
  },
  {
   "cell_type": "code",
   "execution_count": 73,
   "metadata": {},
   "outputs": [],
   "source": [
    "for entry in train_data:\n",
    "    sys_prompt, task_prompt, assis_answer = generate_prompt(entry)\n",
    "    data_point = {\n",
    "        \"messages\": [\n",
    "            {\"role\": \"system\", \"content\": sys_prompt},\n",
    "            {\"role\": \"user\", \"content\": task_prompt},\n",
    "            {\"role\": \"assistant\", \"content\": assis_answer}\n",
    "        ]\n",
    "    }\n",
    "    fine_tune_data.append(data_point)\n"
   ]
  },
  {
   "cell_type": "code",
   "execution_count": 74,
   "metadata": {},
   "outputs": [
    {
     "name": "stdout",
     "output_type": "stream",
     "text": [
      "Data successfully written to ./data/fine-tune/fine-tune-data.jsonl.\n"
     ]
    }
   ],
   "source": [
    "# Write the data to a JSONL file\n",
    "output_file = \"./data/fine-tune/fine-tune-data.jsonl\"\n",
    "with open(output_file, \"w\") as f:\n",
    "    for item in fine_tune_data:\n",
    "        f.write(json.dumps(item) + \"\\n\")\n",
    "\n",
    "print(f\"Data successfully written to {output_file}.\")"
   ]
  },
  {
   "cell_type": "markdown",
   "metadata": {},
   "source": [
    "## Uploading File"
   ]
  },
  {
   "cell_type": "markdown",
   "metadata": {},
   "source": [
    "File_ID = file-Au3yzTTEHFTBpF7B2j6zrn\n",
    "\n",
    "Job_ID = ftjob-XxwysyCPvMji6WIsVEr8ek9m"
   ]
  },
  {
   "cell_type": "code",
   "execution_count": 75,
   "metadata": {},
   "outputs": [
    {
     "data": {
      "text/plain": [
       "FileObject(id='file-Au3yzTTEHFTBpF7B2j6zrn', bytes=85519, created_at=1732516523, filename='fine-tune-data.jsonl', object='file', purpose='fine-tune', status='processed', status_details=None)"
      ]
     },
     "execution_count": 75,
     "metadata": {},
     "output_type": "execute_result"
    }
   ],
   "source": [
    "client.files.create(\n",
    "  file=open(\"./data/fine-tune/fine-tune-data.jsonl\", \"rb\"),\n",
    "  purpose=\"fine-tune\"\n",
    ")"
   ]
  },
  {
   "cell_type": "code",
   "execution_count": 76,
   "metadata": {},
   "outputs": [
    {
     "data": {
      "text/plain": [
       "FineTuningJob(id='ftjob-XxwysyCPvMji6WIsVEr8ek9m', created_at=1732516575, error=Error(code=None, message=None, param=None), fine_tuned_model=None, finished_at=None, hyperparameters=Hyperparameters(n_epochs='auto', batch_size='auto', learning_rate_multiplier='auto'), model='gpt-4o-mini-2024-07-18', object='fine_tuning.job', organization_id='org-yZptGngQaNmSX9mbmfi549Ku', result_files=[], seed=182168774, status='validating_files', trained_tokens=None, training_file='file-Au3yzTTEHFTBpF7B2j6zrn', validation_file=None, integrations=[], user_provided_suffix='FT-Schedular', estimated_finish=None)"
      ]
     },
     "execution_count": 76,
     "metadata": {},
     "output_type": "execute_result"
    }
   ],
   "source": [
    "client.fine_tuning.jobs.create(\n",
    "  training_file=\"file-Au3yzTTEHFTBpF7B2j6zrn\",\n",
    "  model=\"gpt-4o-mini-2024-07-18\",\n",
    "  suffix=\"FT-Schedular\"\n",
    ")"
   ]
  },
  {
   "cell_type": "code",
   "execution_count": 96,
   "metadata": {},
   "outputs": [
    {
     "data": {
      "text/plain": [
       "'ft:gpt-4o-mini-2024-07-18:personal:ft-schedular:AXN6Qt3B'"
      ]
     },
     "execution_count": 96,
     "metadata": {},
     "output_type": "execute_result"
    }
   ],
   "source": [
    "response = client.fine_tuning.jobs.retrieve(\"ftjob-XxwysyCPvMji6WIsVEr8ek9m\")\n",
    "response.status\n",
    "response.fine_tuned_model"
   ]
  },
  {
   "cell_type": "markdown",
   "metadata": {},
   "source": [
    "FT Model ID: \n",
    "\n",
    "ft:gpt-4o-mini-2024-07-18:personal:ft-schedular:AXN6Qt3B"
   ]
  },
  {
   "cell_type": "code",
   "execution_count": 97,
   "metadata": {},
   "outputs": [],
   "source": [
    "sys_prompt, task_prompt, assis_answer = generate_prompt(test_data[0])"
   ]
  },
  {
   "cell_type": "code",
   "execution_count": 98,
   "metadata": {},
   "outputs": [],
   "source": [
    "label = gpt_completion(client, sys_prompt, task_prompt, temperature=0.7, model=\"ft:gpt-4o-mini-2024-07-18:personal:ft-schedular:AXN6Qt3B\")"
   ]
  },
  {
   "cell_type": "code",
   "execution_count": 99,
   "metadata": {},
   "outputs": [
    {
     "data": {
      "text/plain": [
       "{'Spam': 'No',\n",
       " 'Subject': 'WELLS GARDNER DISPLAYS',\n",
       " 'Sender': 'Rick',\n",
       " 'send_date': '1992-02-04',\n",
       " 'Time_Sensitive': 'Yes',\n",
       " 'Start': '2024-02-18 10:00',\n",
       " 'End': '',\n",
       " 'Type': 'Reminder',\n",
       " 'Category': 'Work',\n",
       " 'Format': 'In-person',\n",
       " 'Location': 'Wells Gardner',\n",
       " 'Action_Required': 'Yes',\n",
       " 'Priority_Level': 'High'}"
      ]
     },
     "execution_count": 99,
     "metadata": {},
     "output_type": "execute_result"
    }
   ],
   "source": [
    "ast.literal_eval(label)"
   ]
  },
  {
   "cell_type": "code",
   "execution_count": 100,
   "metadata": {},
   "outputs": [
    {
     "data": {
      "text/plain": [
       "{'Spam': 'No',\n",
       " 'Subject': 'WELLS GARDNER DISPLAYS',\n",
       " 'Sender': 'BERT::MEYETTE',\n",
       " 'send_date': '1992-02-04',\n",
       " 'Time_Sensitive': 'Yes',\n",
       " 'Start': '1992-02-18 00:00',\n",
       " 'End': '',\n",
       " 'Type': 'Reminder',\n",
       " 'Category': 'Work',\n",
       " 'Format': 'In-person',\n",
       " 'Location': 'Wells Gardner',\n",
       " 'Action_Required': 'Yes',\n",
       " 'Priority_Level': 'High'}"
      ]
     },
     "execution_count": 100,
     "metadata": {},
     "output_type": "execute_result"
    }
   ],
   "source": [
    "test_data[0]['label']"
   ]
  },
  {
   "cell_type": "code",
   "execution_count": null,
   "metadata": {},
   "outputs": [],
   "source": []
  }
 ],
 "metadata": {
  "kernelspec": {
   "display_name": "nlp",
   "language": "python",
   "name": "python3"
  },
  "language_info": {
   "codemirror_mode": {
    "name": "ipython",
    "version": 3
   },
   "file_extension": ".py",
   "mimetype": "text/x-python",
   "name": "python",
   "nbconvert_exporter": "python",
   "pygments_lexer": "ipython3",
   "version": "3.10.14"
  }
 },
 "nbformat": 4,
 "nbformat_minor": 2
}
