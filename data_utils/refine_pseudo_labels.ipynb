{
 "cells": [
  {
   "cell_type": "code",
   "execution_count": 35,
   "metadata": {},
   "outputs": [],
   "source": [
    "import random\n",
    "import json\n",
    "from datetime import datetime, timedelta\n",
    "\n",
    "import os\n",
    "from openai import OpenAI\n",
    "from dotenv import load_dotenv"
   ]
  },
  {
   "cell_type": "code",
   "execution_count": 36,
   "metadata": {},
   "outputs": [],
   "source": [
    "# Load the environment variables from the .env file\n",
    "# In this .env, it contains openai's API Key.\n",
    "load_dotenv()\n",
    "# Load the key to call the client.\n",
    "client = OpenAI()"
   ]
  },
  {
   "cell_type": "code",
   "execution_count": 37,
   "metadata": {},
   "outputs": [],
   "source": [
    "pseudo_labels = \"../data/pseudo_email_labels_sohan.json\""
   ]
  },
  {
   "cell_type": "code",
   "execution_count": 38,
   "metadata": {},
   "outputs": [
    {
     "name": "stdout",
     "output_type": "stream",
     "text": [
      "[{'Spam': 'No', 'Time Sensitive': 'Yes', 'Date / Time': '2024-11-11 09:30', 'Event Type': 'Event', 'Category': 'Work', 'Type': 'Virtual', 'Action Required': 'Yes', 'Priority Level': 'Urgent'}, {'Spam': 'No', 'Time Sensitive': 'Yes', 'Date / Time': '2024-11-15 14:00', 'Event Type': 'Reminder', 'Category': 'Study', 'Type': 'Physical', 'Action Required': 'Yes', 'Priority Level': 'High'}, {'Spam': 'No', 'Time Sensitive': 'Yes', 'Date / Time': '2024-11-20 11:15', 'Event Type': 'Event', 'Category': 'Leisure', 'Type': 'Non', 'Action Required': 'No', 'Priority Level': 'Low'}, {'Spam': 'No', 'Time Sensitive': 'Yes', 'Date / Time': '2024-11-14 16:30', 'Event Type': 'Reminder', 'Category': 'Work', 'Type': 'Physical', 'Action Required': 'Yes', 'Priority Level': 'High'}, {'Spam': 'No', 'Time Sensitive': 'No', 'Event Type': 'Event', 'Category': 'Leisure', 'Type': 'Virtual', 'Action Required': 'No', 'Priority Level': 'Medium'}, {'Spam': 'No', 'Time Sensitive': 'Yes', 'Date / Time': '2024-11-18 10:00', 'Event Type': 'Event', 'Category': 'Study', 'Type': 'Physical', 'Action Required': 'Yes', 'Priority Level': 'Medium'}, {'Spam': 'No', 'Time Sensitive': 'Yes', 'Date / Time': '2024-11-22 13:00', 'Event Type': 'Reminder', 'Category': 'Work', 'Type': 'Virtual', 'Action Required': 'No', 'Priority Level': 'High'}, {'Spam': 'No', 'Time Sensitive': 'Yes', 'Date / Time': '2024-11-19 15:45', 'Event Type': 'Event', 'Category': 'Leisure', 'Type': 'Physical', 'Action Required': 'No', 'Priority Level': 'Low'}, {'Spam': 'No', 'Time Sensitive': 'No', 'Event Type': 'Reminder', 'Category': 'Study', 'Type': 'Non', 'Action Required': 'No', 'Priority Level': 'Low'}, {'Spam': 'No', 'Time Sensitive': 'Yes', 'Date / Time': '2024-11-25 17:00', 'Event Type': 'Event', 'Category': 'Work', 'Type': 'Virtual', 'Action Required': 'Yes', 'Priority Level': 'Urgent'}, {'Spam': 'No', 'Time Sensitive': 'Yes', 'Date / Time': '2024-11-16 09:00', 'Event Type': 'Event', 'Category': 'Leisure', 'Type': 'Non', 'Action Required': 'No', 'Priority Level': 'Low'}, {'Spam': 'No', 'Time Sensitive': 'Yes', 'Date / Time': '2024-11-13 12:30', 'Event Type': 'Reminder', 'Category': 'Study', 'Type': 'Physical', 'Action Required': 'Yes', 'Priority Level': 'High'}, {'Spam': 'No', 'Time Sensitive': 'No', 'Event Type': 'Event', 'Category': 'Work', 'Type': 'Non', 'Action Required': 'Yes', 'Priority Level': 'Medium'}, {'Spam': 'No', 'Time Sensitive': 'Yes', 'Date / Time': '2024-11-17 14:30', 'Event Type': 'Event', 'Category': 'Study', 'Type': 'Virtual', 'Action Required': 'Yes', 'Priority Level': 'High'}, {'Spam': 'No', 'Time Sensitive': 'Yes', 'Date / Time': '2024-11-23 11:00', 'Event Type': 'Reminder', 'Category': 'Leisure', 'Type': 'Physical', 'Action Required': 'No', 'Priority Level': 'Low'}, {'Spam': 'No', 'Time Sensitive': 'Yes', 'Date / Time': '2024-11-15 10:45', 'Event Type': 'Event', 'Category': 'Work', 'Type': 'Physical', 'Action Required': 'Yes', 'Priority Level': 'High'}, {'Spam': 'No', 'Time Sensitive': 'Yes', 'Date / Time': '2024-11-26 08:30', 'Event Type': 'Reminder', 'Category': 'Study', 'Type': 'Non', 'Action Required': 'No', 'Priority Level': 'Medium'}, {'Spam': 'No', 'Time Sensitive': 'No', 'Event Type': 'Event', 'Category': 'Leisure', 'Type': 'Virtual', 'Action Required': 'No', 'Priority Level': 'Low'}, {'Spam': 'No', 'Time Sensitive': 'Yes', 'Date / Time': '2024-11-21 13:30', 'Event Type': 'Event', 'Category': 'Study', 'Type': 'Physical', 'Action Required': 'Yes', 'Priority Level': 'Urgent'}, {'Spam': 'No', 'Time Sensitive': 'Yes', 'Date / Time': '2024-11-12 16:15', 'Event Type': 'Reminder', 'Category': 'Work', 'Type': 'Virtual', 'Action Required': 'No', 'Priority Level': 'High'}, {'Spam': 'No', 'Time Sensitive': 'Yes', 'Date / Time': '2024-11-24 09:30', 'Event Type': 'Event', 'Category': 'Leisure', 'Type': 'Non', 'Action Required': 'No', 'Priority Level': 'Low'}, {'Spam': 'No', 'Time Sensitive': 'Yes', 'Date / Time': '2024-11-18 10:30', 'Event Type': 'Reminder', 'Category': 'Study', 'Type': 'Physical', 'Action Required': 'Yes', 'Priority Level': 'High'}, {'Spam': 'No', 'Time Sensitive': 'No', 'Event Type': 'Event', 'Category': 'Work', 'Type': 'Non', 'Action Required': 'No', 'Priority Level': 'Medium'}, {'Spam': 'No', 'Time Sensitive': 'Yes', 'Date / Time': '2024-11-13 14:45', 'Event Type': 'Reminder', 'Category': 'Leisure', 'Type': 'Physical', 'Action Required': 'No', 'Priority Level': 'Low'}, {'Spam': 'No', 'Time Sensitive': 'Yes', 'Date / Time': '2024-11-20 09:00', 'Event Type': 'Event', 'Category': 'Study', 'Type': 'Virtual', 'Action Required': 'Yes', 'Priority Level': 'Urgent'}, {'Spam': 'No', 'Time Sensitive': 'Yes', 'Date / Time': '2024-11-22 15:00', 'Event Type': 'Reminder', 'Category': 'Work', 'Type': 'Physical', 'Action Required': 'No', 'Priority Level': 'Medium'}, {'Spam': 'No', 'Time Sensitive': 'No', 'Event Type': 'Event', 'Category': 'Leisure', 'Type': 'Non', 'Action Required': 'No', 'Priority Level': 'Low'}, {'Spam': 'No', 'Time Sensitive': 'Yes', 'Date / Time': '2024-11-19 14:30', 'Event Type': 'Reminder', 'Category': 'Work', 'Type': 'Virtual', 'Action Required': 'Yes', 'Priority Level': 'High'}, {'Spam': 'No', 'Time Sensitive': 'Yes', 'Date / Time': '2024-11-21 17:15', 'Event Type': 'Event', 'Category': 'Study', 'Type': 'Physical', 'Action Required': 'Yes', 'Priority Level': 'Urgent'}, {'Spam': 'No', 'Time Sensitive': 'No', 'Event Type': 'Reminder', 'Category': 'Leisure', 'Type': 'Virtual', 'Action Required': 'No', 'Priority Level': 'Low'}]\n"
     ]
    }
   ],
   "source": [
    "with open(pseudo_labels, 'r') as file:\n",
    "    data = json.load(file)\n",
    "\n",
    "# Now 'data' holds the content of the JSON file as a Python dictionary\n",
    "print(data)"
   ]
  },
  {
   "cell_type": "code",
   "execution_count": 92,
   "metadata": {},
   "outputs": [],
   "source": [
    "### Subject Generation\n",
    "def predict_subject(prompt_entry):\n",
    "    completion = client.chat.completions.create(\n",
    "        model=\"gpt-4o-mini\",\n",
    "        # model=\"gpt-4o\",\n",
    "        messages=[\n",
    "            {\"role\": \"system\", \"content\": \"You are a email expert. \\\n",
    "                You will be given an example of an label of an email, and the corresbonding \\\n",
    "                predicted subject; and you need to generate a prediction of only the subject given a label.\\\n",
    "                Use your imagination to be creative and unique\"},\n",
    "            {\n",
    "                \"role\": \"user\",\n",
    "                \"content\": \n",
    "                    f\"Label: Spam: No, Subject: '', Sender: '', Time_Sensitive: Yes, Start: 2024-11-11 09:30, End: 2024-11-11 10:30, Type: Reminder, Category: Work, Location: Virtual, Virtual: Yes, Place: Zoom, Action_Required: Yes, Priority_Level: Urgent., \\\n",
    "                    Predict_Subject: Ticket Number 19624 needs debugging immediately; \\\n",
    "                    Label: Spam: No, Subject: '', Sender: '', Time_Sensitive: No, Start: , End: , Type: Event, Category: Leisure, Location: Virtual, Virtual: Yes, Place: Zoom, Action_Required: No, Action_Required: Medium., \\\n",
    "                    Predict_Subject: An invitation to the bi-weekly English Corner; \\\n",
    "                    Label: Spam: No, Subject: '', Sender: '', Time_Sensitive: Yes, Start: 2024-11-20 11:15, End: 2024-11-20 12:15, Type: Event, Category: Leisure, Location: Non, Virtual: No, Place: , Action_Required: No, Action_Required: Low., \\\n",
    "                    Predict_Subject: Do you want to have a lunch together?;\\\n",
    "                    Label: {prompt_entry}, \\\n",
    "                    Predict_Subject:\"\n",
    "            }\n",
    "        ]\n",
    "    )\n",
    "    return completion.choices[0].message.content\n",
    "\n",
    "def entry_to_prompt(entry):\n",
    "    return (f\"Spam: {entry['Spam']}, Subject: '{entry['Subject']}', \"\n",
    "            f\"Sender: '{entry['Sender']}', Time_Sensitive: {entry['Time_Sensitive']}, \"\n",
    "            f\"Start: {entry['Start']}, End: {entry['End']}, Type: {entry['Type']}, \"\n",
    "            f\"Category: {entry['Category']}, Location: {entry['Location']}, \"\n",
    "            f\"Virtual: {entry['Virtual']}, Place: {entry['Place']}, \"\n",
    "            f\"Action_Required: {entry['Action_Required']}, Action_Required: {entry['Priority_Level']}.\")\n"
   ]
  },
  {
   "cell_type": "code",
   "execution_count": 118,
   "metadata": {},
   "outputs": [],
   "source": [
    "possible_senders = [\n",
    "    \"Emma Johnson\", \"Michael Brown\", \"Jessica Taylor\", \"Daniel Harris\", \"Madison Martinez\",\n",
    "    \"Sofia García\", \"Juan Carlos Rodríguez\", \"Valentina Hernández\", \"Diego Fernández\", \"Camila González\",\n",
    "    \"Emma Müller\", \"Hugo Dupont\", \"Matteo Rossi\", \"Klara Novak\", \"Ioannis Papadopoulos\",\n",
    "    \"Yuki Tanaka\", \"Min-seo Kim\", \"Wei Zhang\", \"Jisoo Lee\", \"Ai Chen\",\n",
    "    \"Priya Patel\", \"Aamir Khan\", \"Lakshmi Iyer\", \"Malika Singh\", \"Sanjay Reddy\",\n",
    "    \"Layla Hassan\", \"Amir Al-Farsi\", \"Yasmin Jaber\", \"Ibrahim Al-Mansouri\", \"Nadia Ali\",\n",
    "    \"Adanna Okeke\", \"Thabo Mbeki\", \"Amina Diallo\", \"Kwame Boateng\", \"Zola Dlamini\",\n",
    "    \"Anong Bounnhong\", \"Davi Nguyen\", \"Putri Dewi\", \"Siti Zulaikha\", \"Marites Santos\",\n",
    "    \"Jack Thompson\", \"Ruby Wilson\", \"Aria Clark\", \"Mason King\", \"Mia O'Connor\",\n",
    "    \"Andrei Ivanov\", \"Daria Kowalski\", \"Zoltán Nagy\", \"Milica Jovanović\", \"Tereza Veselý\"\n",
    "]"
   ]
  },
  {
   "cell_type": "code",
   "execution_count": 119,
   "metadata": {},
   "outputs": [],
   "source": [
    "possible_locations = [\"Zoom\", \"Microsoft Teams\", \"Google Meet\", \"Webex\", \"TBD\"]\n",
    "possible_durations = [30, 45, 60, 75, 90, 105, 120]\n",
    "def transform_entry(entry):\n",
    "    # New structure with existing and added fields\n",
    "    transformed = {\n",
    "        \"Spam\": entry.get(\"Spam\", \"No\"),\n",
    "        \"Subject\": \"\",  # Default empty string\n",
    "        \"Sender\": random.choice(possible_senders),  # Randomly sampled sender\n",
    "        \"Time_Sensitive\": entry.get(\"Time Sensitive\", \"No\"),\n",
    "        \"Start\": entry.get(\"Date / Time\", \"\"),\n",
    "        \"End\": \"\",  # Will calculate below\n",
    "        \"Type\": entry.get(\"Event Type\", \"Event\"),\n",
    "        \"Category\": entry.get(\"Category\", \"\"),\n",
    "        \"Location\": entry.get(\"Type\", \"Virtual\"),\n",
    "        \"Virtual\": \"Yes\" if entry.get(\"Type\", \"Virtual\") == \"Virtual\" else \"No\",\n",
    "        \"Place\": random.choice(possible_locations) if entry.get(\"Type\") == \"Virtual\" else \"In-person\",  # Sampled location\n",
    "        \"Action_Required\": entry.get(\"Action Required\", \"No\"),\n",
    "        \"Priority_Level\": entry.get(\"Priority Level\", \"Normal\")\n",
    "    }\n",
    "    \n",
    "    # Calculate \"End\" time by adding 1 hour to \"Start\" time\n",
    "    if transformed[\"Start\"] and transformed[\"Type\"] == \"Event\":\n",
    "        start_time = datetime.strptime(transformed[\"Start\"], \"%Y-%m-%d %H:%M\")\n",
    "        duration = timedelta(minutes=random.choice(possible_durations))  # Randomly chosen duration\n",
    "        end_time = start_time + duration\n",
    "        transformed[\"End\"] = end_time.strftime(\"%Y-%m-%d %H:%M\")\n",
    "\n",
    "    transformed[\"Subject\"] = predict_subject(transformed)\n",
    "   \n",
    "    return transformed"
   ]
  },
  {
   "cell_type": "code",
   "execution_count": 120,
   "metadata": {},
   "outputs": [],
   "source": [
    "example = transform_entry(data[1])"
   ]
  },
  {
   "cell_type": "code",
   "execution_count": 121,
   "metadata": {},
   "outputs": [
    {
     "data": {
      "text/plain": [
       "{'Spam': 'No',\n",
       " 'Subject': \"Don't forget our crucial study session at 2 PM!\",\n",
       " 'Sender': 'Siti Zulaikha',\n",
       " 'Time_Sensitive': 'Yes',\n",
       " 'Start': '2024-11-15 14:00',\n",
       " 'End': '',\n",
       " 'Type': 'Reminder',\n",
       " 'Category': 'Study',\n",
       " 'Location': 'Physical',\n",
       " 'Virtual': 'No',\n",
       " 'Place': 'In-person',\n",
       " 'Action_Required': 'Yes',\n",
       " 'Priority_Level': 'High'}"
      ]
     },
     "execution_count": 121,
     "metadata": {},
     "output_type": "execute_result"
    }
   ],
   "source": [
    "example"
   ]
  },
  {
   "cell_type": "code",
   "execution_count": 94,
   "metadata": {},
   "outputs": [
    {
     "data": {
      "text/plain": [
       "'Join us for a cozy Virtual Game Night!'"
      ]
     },
     "execution_count": 94,
     "metadata": {},
     "output_type": "execute_result"
    }
   ],
   "source": [
    "predict_subject(entry_to_prompt(transformed_data[4]))"
   ]
  },
  {
   "cell_type": "code",
   "execution_count": 84,
   "metadata": {},
   "outputs": [
    {
     "data": {
      "text/plain": [
       "\"Spam: No, Subject: '', Sender: '', Time_Sensitive: Yes, Start: 2024-11-20 11:15, End: 2024-11-20 12:15, Type: Event, Category: Leisure, Location: Non, Virtual: No, Place: , Action_Required: No, Action_Required: Low.\""
      ]
     },
     "execution_count": 84,
     "metadata": {},
     "output_type": "execute_result"
    }
   ],
   "source": [
    "entry_to_prompt(transformed_data[2])"
   ]
  },
  {
   "cell_type": "code",
   "execution_count": 123,
   "metadata": {},
   "outputs": [],
   "source": [
    "# Apply the transformation to each entry\n",
    "transformed_data = [transform_entry(entry) for entry in data]\n",
    "\n",
    "with open('../data/pseudo_email_labels_refined.json', 'w') as file:\n",
    "    json.dump(transformed_data, file, indent=4)"
   ]
  },
  {
   "cell_type": "code",
   "execution_count": null,
   "metadata": {},
   "outputs": [],
   "source": []
  }
 ],
 "metadata": {
  "kernelspec": {
   "display_name": "nlp",
   "language": "python",
   "name": "python3"
  },
  "language_info": {
   "codemirror_mode": {
    "name": "ipython",
    "version": 3
   },
   "file_extension": ".py",
   "mimetype": "text/x-python",
   "name": "python",
   "nbconvert_exporter": "python",
   "pygments_lexer": "ipython3",
   "version": "3.10.14"
  }
 },
 "nbformat": 4,
 "nbformat_minor": 2
}
