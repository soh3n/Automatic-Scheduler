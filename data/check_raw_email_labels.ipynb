{
 "cells": [
  {
   "cell_type": "code",
   "execution_count": 9,
   "metadata": {},
   "outputs": [],
   "source": [
    "import os\n",
    "import json\n",
    "import shutil\n",
    "import glob"
   ]
  },
  {
   "cell_type": "code",
   "execution_count": 3,
   "metadata": {},
   "outputs": [],
   "source": [
    "# Path to the JSON file\n",
    "file_path = \"raw_email_labels_refined.json\"\n",
    "\n",
    "# Load the JSON file\n",
    "with open(file_path, \"r\") as file:\n",
    "    email_labels = json.load(file)\n",
    "\n",
    "# Define valid fields and values\n",
    "valid_fields = {\n",
    "    \"Spam\": [\"Yes\", \"No\"],\n",
    "    \"Time_Sensitive\": [\"Yes\", \"No\"],\n",
    "    \"Type\": [\"Event\", \"Reminder\", \"N/A\"],\n",
    "    \"Category\": [\"Work\", \"Study\", \"Leisure\"],\n",
    "    \"Format\": [\"Online\", \"In-person\"],\n",
    "    \"Action_Required\": [\"Yes\", \"No\"],\n",
    "    \"Priority_Level\": [\"Low\", \"Medium\", \"High\", \"Urgent\"],\n",
    "}\n",
    "\n",
    "# Define all required fields (template)\n",
    "required_fields = [\n",
    "    \"Spam\", \"Subject\", \"Sender\", \"send_date\",\n",
    "    \"Time_Sensitive\", \"Start\", \"End\", \"Type\",\n",
    "    \"Category\", \"Format\", \"Location\",\n",
    "    \"Action_Required\", \"Priority_Level\"\n",
    "]\n",
    "\n",
    "# Check each email label\n",
    "for i, email in enumerate(email_labels):\n",
    "    missing_fields = [field for field in required_fields if field not in email]\n",
    "    invalid_fields = []\n",
    "    \n",
    "    # Validate existing fields\n",
    "    for field, valid_values in valid_fields.items():\n",
    "        if field in email and email[field] not in valid_values:\n",
    "            invalid_fields.append((field, email[field]))\n",
    "    \n",
    "    # Print results for missing or invalid fields\n",
    "    if missing_fields:\n",
    "        print(f\"Missing fields at index {i}: {missing_fields}\")\n",
    "    if invalid_fields:\n",
    "        print(f\"Invalid values at index {i}: {invalid_fields}\")"
   ]
  },
  {
   "cell_type": "code",
   "execution_count": 4,
   "metadata": {},
   "outputs": [
    {
     "data": {
      "text/plain": [
       "32"
      ]
     },
     "execution_count": 4,
     "metadata": {},
     "output_type": "execute_result"
    }
   ],
   "source": [
    "len(email_labels)"
   ]
  },
  {
   "cell_type": "code",
   "execution_count": 5,
   "metadata": {},
   "outputs": [],
   "source": [
    "for i in range(len(email_labels)):\n",
    "    email_path = f\"./raw_emails/atariarchive{i+1}.txt\""
   ]
  },
  {
   "cell_type": "code",
   "execution_count": 7,
   "metadata": {},
   "outputs": [
    {
     "name": "stdout",
     "output_type": "stream",
     "text": [
      "Processing complete. JSON files and email copies created.\n"
     ]
    }
   ],
   "source": [
    "# Path to the raw email labels JSON\n",
    "file_path = \"raw_email_labels_refined.json\"\n",
    "\n",
    "# Directories\n",
    "raw_email_dir = \"./raw_emails\"\n",
    "real_emails_dir = \"./real_emails\"\n",
    "spam_dir = \"./spams\"\n",
    "\n",
    "# Ensure output directories exist\n",
    "os.makedirs(real_emails_dir, exist_ok=True)\n",
    "os.makedirs(spam_dir, exist_ok=True)\n",
    "\n",
    "# Load email labels\n",
    "with open(file_path, \"r\") as file:\n",
    "    email_labels = json.load(file)\n",
    "\n",
    "# Initialize JSON data for spam and non-spam\n",
    "non_spam_json = []\n",
    "spam_json = []\n",
    "\n",
    "# Process each email\n",
    "for i in range(len(email_labels)):\n",
    "    email_path = os.path.join(raw_email_dir, f\"atariarchive{i+1}.txt\")\n",
    "    \n",
    "    # Check if the email path is valid\n",
    "    if os.path.exists(email_path):\n",
    "        with open(email_path, \"r\") as email_file:\n",
    "            content = email_file.read()\n",
    "        # Prepare entry\n",
    "        email_entry = {\"path\": email_path, \"content\": content, \"label\": email_labels[i]}\n",
    "        \n",
    "        # Classify email based on Spam label\n",
    "        if email_labels[i][\"Spam\"] == \"No\":\n",
    "            non_spam_json.append(email_entry)\n",
    "            # Copy to non-spam directory\n",
    "            shutil.copy(email_path, real_emails_dir)\n",
    "        elif email_labels[i][\"Spam\"] == \"Yes\":\n",
    "            spam_json.append(email_entry)\n",
    "            # Copy to spam directory\n",
    "            shutil.copy(email_path, spam_dir)\n",
    "    else:\n",
    "        print(f\"Invalid path: {email_path}\")\n",
    "\n",
    "# Write the JSON files\n",
    "with open(\"./PAIRED_real_email.json\", \"w\") as non_spam_file:\n",
    "    json.dump(non_spam_json, non_spam_file, indent=4)\n",
    "\n",
    "with open(\"./PAIRED_spam_email.json\", \"w\") as spam_file:\n",
    "    json.dump(spam_json, spam_file, indent=4)\n",
    "\n",
    "print(\"Processing complete. JSON files and email copies created.\")"
   ]
  },
  {
   "cell_type": "code",
   "execution_count": 12,
   "metadata": {},
   "outputs": [],
   "source": [
    "# Path to Enron spam emails\n",
    "spam_files_path = \"./spams/Enron*.txt\"\n",
    "\n",
    "# Gather all spam file paths\n",
    "spam_file_paths = glob.glob(spam_files_path)\n"
   ]
  },
  {
   "cell_type": "code",
   "execution_count": 13,
   "metadata": {},
   "outputs": [
    {
     "data": {
      "text/plain": [
       "['./spams/Enron5.txt',\n",
       " './spams/Enron4.txt',\n",
       " './spams/Enron6.txt',\n",
       " './spams/Enron7.txt',\n",
       " './spams/Enron3.txt',\n",
       " './spams/Enron2.txt',\n",
       " './spams/Enron1.txt']"
      ]
     },
     "execution_count": 13,
     "metadata": {},
     "output_type": "execute_result"
    }
   ],
   "source": [
    "spam_file_paths"
   ]
  },
  {
   "cell_type": "code",
   "execution_count": 15,
   "metadata": {},
   "outputs": [
    {
     "name": "stdout",
     "output_type": "stream",
     "text": [
      "Spam emails processed and stored in spam_emails.json.\n"
     ]
    }
   ],
   "source": [
    "\n",
    "# Initialize the list for JSON entries\n",
    "spam_json = []\n",
    "\n",
    "# Define the spam label template\n",
    "spam_template = {\n",
    "    \"Spam\": \"Yes\",\n",
    "    \"Time_Sensitive\": \"No\",\n",
    "    \"Type\": \"N/A\",\n",
    "    \"Category\": \"Leisure\",\n",
    "    \"Format\": \"Online\",\n",
    "    \"Location\": \"N/A\",\n",
    "    \"Action_Required\": \"No\",\n",
    "    \"Priority_Level\": \"Low\"\n",
    "}\n",
    "\n",
    "# Process each spam file\n",
    "for spam_file in spam_file_paths:\n",
    "    if os.path.exists(spam_file):\n",
    "        # Read the content of the spam email\n",
    "        with open(spam_file, \"r\") as file:\n",
    "            content = file.read()\n",
    "        \n",
    "        # Extract metadata (you may add logic to parse Subject, Sender, etc., if needed)\n",
    "        email_entry = {\n",
    "            \"path\": spam_file,\n",
    "            \"content\": content,\n",
    "            \"label\": {\n",
    "                \"Spam\": \"Yes\",\n",
    "                \"Subject\": \"\",\n",
    "                \"Sender\": \"\",\n",
    "                \"send_date\": \"\",\n",
    "                \"Time_Sensitive\": \"No\",\n",
    "                \"Start\": \"\",\n",
    "                \"End\": \"\",\n",
    "                \"Type\": \"N/A\",\n",
    "                \"Category\": \"Leisure\",\n",
    "                \"Format\": \"Online\",\n",
    "                \"Location\": \"N/A\",\n",
    "                \"Action_Required\": \"No\",\n",
    "                \"Priority_Level\": \"Low\"\n",
    "            }\n",
    "        }\n",
    "        \n",
    "        # Add the entry to the JSON list\n",
    "        spam_json.append(email_entry)\n",
    "    else:\n",
    "        print(f\"File not found: {spam_file}\")\n",
    "\n",
    "# Save the spam JSON file\n",
    "with open(\"./spam_emails.json\", \"w\") as spam_file:\n",
    "    json.dump(spam_json, spam_file, indent=4)\n",
    "\n",
    "print(\"Spam emails processed and stored in spam_emails.json.\")"
   ]
  },
  {
   "cell_type": "code",
   "execution_count": null,
   "metadata": {},
   "outputs": [],
   "source": []
  }
 ],
 "metadata": {
  "kernelspec": {
   "display_name": "nlp",
   "language": "python",
   "name": "python3"
  },
  "language_info": {
   "codemirror_mode": {
    "name": "ipython",
    "version": 3
   },
   "file_extension": ".py",
   "mimetype": "text/x-python",
   "name": "python",
   "nbconvert_exporter": "python",
   "pygments_lexer": "ipython3",
   "version": "3.10.14"
  }
 },
 "nbformat": 4,
 "nbformat_minor": 2
}
