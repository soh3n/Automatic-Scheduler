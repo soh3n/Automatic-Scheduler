{
 "cells": [
  {
   "cell_type": "markdown",
   "metadata": {},
   "source": [
    "## This script should demonstrate the main functions"
   ]
  },
  {
   "cell_type": "code",
   "execution_count": 6,
   "metadata": {},
   "outputs": [],
   "source": [
    "# from datetime import datetime\n",
    "# from sklearn.metrics import accuracy_score, f1_score, recall_score\n",
    "import os\n",
    "from openai import OpenAI\n",
    "from dotenv import load_dotenv\n",
    "import random\n",
    "import json\n",
    "from datetime import datetime, timedelta\n",
    "from utils.evaluation_utils import evaluate_label_single, calculate_overall_metrics\n",
    "from utils.generation_utils import generate_prompt, label2email\n",
    "from utils.labeling_utils import re_analyze_email, gpt_label, gpt_label_eg, gpt_label_ft\n",
    "from utils.gpt_utils import gpt_completion"
   ]
  },
  {
   "cell_type": "code",
   "execution_count": 8,
   "metadata": {},
   "outputs": [
    {
     "ename": "OpenAIError",
     "evalue": "The api_key client option must be set either by passing api_key to the client or by setting the OPENAI_API_KEY environment variable",
     "output_type": "error",
     "traceback": [
      "\u001b[0;31m---------------------------------------------------------------------------\u001b[0m",
      "\u001b[0;31mOpenAIError\u001b[0m                               Traceback (most recent call last)",
      "Cell \u001b[0;32mIn[8], line 5\u001b[0m\n\u001b[1;32m      3\u001b[0m load_dotenv()\n\u001b[1;32m      4\u001b[0m \u001b[38;5;66;03m# Load the key to call the client.\u001b[39;00m\n\u001b[0;32m----> 5\u001b[0m client \u001b[38;5;241m=\u001b[39m \u001b[43mOpenAI\u001b[49m\u001b[43m(\u001b[49m\u001b[43m)\u001b[49m\n\u001b[1;32m      6\u001b[0m model_name\u001b[38;5;241m=\u001b[39m\u001b[38;5;124m\"\u001b[39m\u001b[38;5;124mgpt-4o-mini\u001b[39m\u001b[38;5;124m\"\u001b[39m\n\u001b[1;32m      7\u001b[0m \u001b[38;5;66;03m# model_name=\"gpt-4o\"\u001b[39;00m\n",
      "File \u001b[0;32m~/.local/lib/python3.10/site-packages/openai/_client.py:104\u001b[0m, in \u001b[0;36mOpenAI.__init__\u001b[0;34m(self, api_key, organization, project, base_url, timeout, max_retries, default_headers, default_query, http_client, _strict_response_validation)\u001b[0m\n\u001b[1;32m    102\u001b[0m     api_key \u001b[38;5;241m=\u001b[39m os\u001b[38;5;241m.\u001b[39menviron\u001b[38;5;241m.\u001b[39mget(\u001b[38;5;124m\"\u001b[39m\u001b[38;5;124mOPENAI_API_KEY\u001b[39m\u001b[38;5;124m\"\u001b[39m)\n\u001b[1;32m    103\u001b[0m \u001b[38;5;28;01mif\u001b[39;00m api_key \u001b[38;5;129;01mis\u001b[39;00m \u001b[38;5;28;01mNone\u001b[39;00m:\n\u001b[0;32m--> 104\u001b[0m     \u001b[38;5;28;01mraise\u001b[39;00m OpenAIError(\n\u001b[1;32m    105\u001b[0m         \u001b[38;5;124m\"\u001b[39m\u001b[38;5;124mThe api_key client option must be set either by passing api_key to the client or by setting the OPENAI_API_KEY environment variable\u001b[39m\u001b[38;5;124m\"\u001b[39m\n\u001b[1;32m    106\u001b[0m     )\n\u001b[1;32m    107\u001b[0m \u001b[38;5;28mself\u001b[39m\u001b[38;5;241m.\u001b[39mapi_key \u001b[38;5;241m=\u001b[39m api_key\n\u001b[1;32m    109\u001b[0m \u001b[38;5;28;01mif\u001b[39;00m organization \u001b[38;5;129;01mis\u001b[39;00m \u001b[38;5;28;01mNone\u001b[39;00m:\n",
      "\u001b[0;31mOpenAIError\u001b[0m: The api_key client option must be set either by passing api_key to the client or by setting the OPENAI_API_KEY environment variable"
     ]
    }
   ],
   "source": [
    "# Load the environment variables from the .env file\n",
    "# In this .env, it contains openai's API Key.\n",
    "load_dotenv()\n",
    "# Load the key to call the client.\n",
    "client = OpenAI()\n",
    "model_name=\"gpt-4o-mini\"\n",
    "# model_name=\"gpt-4o\""
   ]
  },
  {
   "cell_type": "code",
   "execution_count": 7,
   "metadata": {},
   "outputs": [
    {
     "ename": "OpenAIError",
     "evalue": "The api_key client option must be set either by passing api_key to the client or by setting the OPENAI_API_KEY environment variable",
     "output_type": "error",
     "traceback": [
      "\u001b[0;31m---------------------------------------------------------------------------\u001b[0m",
      "\u001b[0;31mOpenAIError\u001b[0m                               Traceback (most recent call last)",
      "Cell \u001b[0;32mIn[7], line 10\u001b[0m\n\u001b[1;32m      7\u001b[0m     train_data \u001b[38;5;241m=\u001b[39m json\u001b[38;5;241m.\u001b[39mload(file)\n\u001b[1;32m      9\u001b[0m load_dotenv()\n\u001b[0;32m---> 10\u001b[0m client \u001b[38;5;241m=\u001b[39m \u001b[43mOpenAI\u001b[49m\u001b[43m(\u001b[49m\u001b[43m)\u001b[49m\n\u001b[1;32m     11\u001b[0m model_name\u001b[38;5;241m=\u001b[39m\u001b[38;5;124m\"\u001b[39m\u001b[38;5;124mgpt-4o-mini\u001b[39m\u001b[38;5;124m\"\u001b[39m\n",
      "File \u001b[0;32m~/.local/lib/python3.10/site-packages/openai/_client.py:104\u001b[0m, in \u001b[0;36mOpenAI.__init__\u001b[0;34m(self, api_key, organization, project, base_url, timeout, max_retries, default_headers, default_query, http_client, _strict_response_validation)\u001b[0m\n\u001b[1;32m    102\u001b[0m     api_key \u001b[38;5;241m=\u001b[39m os\u001b[38;5;241m.\u001b[39menviron\u001b[38;5;241m.\u001b[39mget(\u001b[38;5;124m\"\u001b[39m\u001b[38;5;124mOPENAI_API_KEY\u001b[39m\u001b[38;5;124m\"\u001b[39m)\n\u001b[1;32m    103\u001b[0m \u001b[38;5;28;01mif\u001b[39;00m api_key \u001b[38;5;129;01mis\u001b[39;00m \u001b[38;5;28;01mNone\u001b[39;00m:\n\u001b[0;32m--> 104\u001b[0m     \u001b[38;5;28;01mraise\u001b[39;00m OpenAIError(\n\u001b[1;32m    105\u001b[0m         \u001b[38;5;124m\"\u001b[39m\u001b[38;5;124mThe api_key client option must be set either by passing api_key to the client or by setting the OPENAI_API_KEY environment variable\u001b[39m\u001b[38;5;124m\"\u001b[39m\n\u001b[1;32m    106\u001b[0m     )\n\u001b[1;32m    107\u001b[0m \u001b[38;5;28mself\u001b[39m\u001b[38;5;241m.\u001b[39mapi_key \u001b[38;5;241m=\u001b[39m api_key\n\u001b[1;32m    109\u001b[0m \u001b[38;5;28;01mif\u001b[39;00m organization \u001b[38;5;129;01mis\u001b[39;00m \u001b[38;5;28;01mNone\u001b[39;00m:\n",
      "\u001b[0;31mOpenAIError\u001b[0m: The api_key client option must be set either by passing api_key to the client or by setting the OPENAI_API_KEY environment variable"
     ]
    }
   ],
   "source": [
    "test_data_path = \"./data/PAIRED_test.json\"\n",
    "with open(test_data_path, 'r') as file:\n",
    "    test_data = json.load(file)\n",
    "\n",
    "train_data_path = \"./data/PAIRED_train.json\"\n",
    "with open(train_data_path, 'r') as file:\n",
    "    train_data = json.load(file)\n",
    "\n",
    "load_dotenv()\n",
    "client = OpenAI()\n",
    "model_name=\"gpt-4o-mini\""
   ]
  },
  {
   "cell_type": "markdown",
   "metadata": {},
   "source": [
    "## 1. If you want to write an email\n",
    "Let's say that you want to held a study session for CS6320, and you write an email to all of your team:"
   ]
  },
  {
   "cell_type": "code",
   "execution_count": 2,
   "metadata": {},
   "outputs": [],
   "source": [
    "label_studysession = {\n",
    "    \"Spam\":\"No\",\n",
    "    \"Subject\": \"Study Session for NLP 6320 Final Exam\",\n",
    "    \"Sender\": \"Edward\",\n",
    "    \"send_date\": \"2024-12-05\",\n",
    "    \"Time_Sensitive\": \"Yes\",\n",
    "    \"Start\": \"2024-12-06 13:30\",\n",
    "    \"End\": \"2024-12-06 15:30\",\n",
    "    \"Type\": \"Event\",\n",
    "    \"Category\": \"Study\",\n",
    "    \"Format\": \"In-person\",\n",
    "    \"Location\": \"Library\",\n",
    "    \"Action_Required\": \"Yes\",\n",
    "    \"Priority_Level\": \"High\"\n",
    "}"
   ]
  },
  {
   "cell_type": "code",
   "execution_count": 3,
   "metadata": {},
   "outputs": [
    {
     "data": {
      "text/plain": [
       "[{'Spam': 'No',\n",
       "  'Subject': 'Random Subject 85',\n",
       "  'Sender': 'sender46@example.com',\n",
       "  'send_date': '2024-03-12 14:45',\n",
       "  'Time_Sensitive': 'Yes',\n",
       "  'Start': '2024-11-20 09:17',\n",
       "  'End': '2024-11-20 11:20',\n",
       "  'Type': 'Event',\n",
       "  'Category': 'Work',\n",
       "  'Format': 'Online',\n",
       "  'Location': 'Location 7',\n",
       "  'Action_Required': 'Yes',\n",
       "  'Priority_Level': 'High'},\n",
       " {'Spam': 'Yes',\n",
       "  'Subject': 'Random Subject 29',\n",
       "  'Sender': 'sender31@example.com',\n",
       "  'send_date': '2024-09-09 03:19',\n",
       "  'Time_Sensitive': 'No',\n",
       "  'Start': '2024-07-18 10:33',\n",
       "  'End': '2024-07-18 11:33',\n",
       "  'Type': 'Reminder',\n",
       "  'Category': 'Study',\n",
       "  'Format': 'In-person',\n",
       "  'Location': 'Location 5',\n",
       "  'Action_Required': 'No',\n",
       "  'Priority_Level': 'Medium'},\n",
       " {'Spam': 'No',\n",
       "  'Subject': 'Random Subject 10',\n",
       "  'Sender': 'sender89@example.com',\n",
       "  'send_date': '2024-01-21 16:21',\n",
       "  'Time_Sensitive': 'Yes',\n",
       "  'Start': '2024-05-03 09:45',\n",
       "  'End': '2024-05-03 10:45',\n",
       "  'Type': 'Event',\n",
       "  'Category': 'Leisure',\n",
       "  'Format': 'Online',\n",
       "  'Location': 'Location 1',\n",
       "  'Action_Required': 'Yes',\n",
       "  'Priority_Level': 'Urgent'},\n",
       " {'Spam': 'No',\n",
       "  'Subject': 'Random Subject 33',\n",
       "  'Sender': 'sender53@example.com',\n",
       "  'send_date': '2024-06-06 19:37',\n",
       "  'Time_Sensitive': 'No',\n",
       "  'Start': '2024-10-01 08:00',\n",
       "  'End': '2024-10-01 09:30',\n",
       "  'Type': 'N/A',\n",
       "  'Category': 'Work',\n",
       "  'Format': 'In-person',\n",
       "  'Location': 'Location 3',\n",
       "  'Action_Required': 'No',\n",
       "  'Priority_Level': 'Low'},\n",
       " {'Spam': 'No',\n",
       "  'Subject': 'Random Subject 63',\n",
       "  'Sender': 'sender26@example.com',\n",
       "  'send_date': '2024-05-24 12:10',\n",
       "  'Time_Sensitive': 'Yes',\n",
       "  'Start': '2024-11-01 10:00',\n",
       "  'End': '2024-11-01 11:30',\n",
       "  'Type': 'Event',\n",
       "  'Category': 'Study',\n",
       "  'Format': 'Online',\n",
       "  'Location': 'Location 6',\n",
       "  'Action_Required': 'Yes',\n",
       "  'Priority_Level': 'High'}]"
      ]
     },
     "execution_count": 3,
     "metadata": {},
     "output_type": "execute_result"
    }
   ],
   "source": [
    "pred_labels"
   ]
  },
  {
   "cell_type": "code",
   "execution_count": 4,
   "metadata": {},
   "outputs": [
    {
     "data": {
      "text/plain": [
       "{'Binary Metrics': {'Spam': {'ACC': 0.8,\n",
       "   'F1': 0.8888888888888888,\n",
       "   'Recall': 0.8},\n",
       "  'Time_Sensitive': {'ACC': 1.0, 'F1': 1.0, 'Recall': 1.0}},\n",
       " 'Categorical Metrics': {'Time Period': 0.8,\n",
       "  'Type': 1.0,\n",
       "  'Category': 1.0,\n",
       "  'Format': 1.0,\n",
       "  'Priority_Level': 1.0},\n",
       " 'Averaged Weighted Score': 0.76}"
      ]
     },
     "execution_count": 4,
     "metadata": {},
     "output_type": "execute_result"
    }
   ],
   "source": [
    "results = []\n",
    "assert len(pred_labels) == len(true_labels)\n",
    "for i in range(len(pred_labels)):\n",
    "    results.append(evaluate_label_single(pred_labels[i], true_labels[i]))\n",
    "metrics = calculate_overall_metrics(results)\n",
    "metrics"
   ]
  },
  {
   "cell_type": "code",
   "execution_count": 2,
   "metadata": {},
   "outputs": [],
   "source": [
    "# Load the environment variables from the .env file\n",
    "# In this .env, it contains openai's API Key.\n",
    "load_dotenv()\n",
    "# Load the key to call the client.\n",
    "client = OpenAI()\n",
    "model_name=\"gpt-4o-mini\"\n"
   ]
  },
  {
   "cell_type": "code",
   "execution_count": 4,
   "metadata": {},
   "outputs": [
    {
     "data": {
      "text/plain": [
       "'Hello! I’m feeling fantastic, thank you! How about you? How can I brighten your day today? 😊'"
      ]
     },
     "execution_count": 4,
     "metadata": {},
     "output_type": "execute_result"
    }
   ],
   "source": [
    "gpt_completion(client, system_prompt=\"Your are a chatbot to make user happy.\", task_prompt=\"Hi, How are you?\", temperature=1.0, model=model_name)"
   ]
  },
  {
   "cell_type": "code",
   "execution_count": 6,
   "metadata": {},
   "outputs": [
    {
     "data": {
      "text/plain": [
       "'From: sender46@example.com  \\nDate: 2024-11-20  \\nSubject: Random Subject 85  \\n\\nDear Team,  \\n\\nI hope this message finds you well. I wanted to inform you about an upcoming online session scheduled for November 20, 2024, from 9:17 AM to 11:25 AM. We will be meeting virtually at Location 7.  \\n\\nPlease confirm your attendance at your earliest convenience, and do not hesitate to reach out if you have any questions or need assistance accessing the session. Your participation is highly valued, and I look forward to seeing everyone online.  \\n\\nThank you for your cooperation!  \\n\\nBest,  \\n[Your Name]  \\nsender46@example.com  '"
      ]
     },
     "execution_count": 6,
     "metadata": {},
     "output_type": "execute_result"
    }
   ],
   "source": [
    "sys_prompt, task_prompt = generate_prompt(true_labels[0])\n",
    "label2email(label=true_labels[0], client=client, temperature=1.0, model=model_name)"
   ]
  },
  {
   "cell_type": "code",
   "execution_count": null,
   "metadata": {},
   "outputs": [],
   "source": []
  }
 ],
 "metadata": {
  "kernelspec": {
   "display_name": "nlp",
   "language": "python",
   "name": "python3"
  },
  "language_info": {
   "codemirror_mode": {
    "name": "ipython",
    "version": 3
   },
   "file_extension": ".py",
   "mimetype": "text/x-python",
   "name": "python",
   "nbconvert_exporter": "python",
   "pygments_lexer": "ipython3",
   "version": "3.10.14"
  }
 },
 "nbformat": 4,
 "nbformat_minor": 2
}
