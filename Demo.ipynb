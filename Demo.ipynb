{
 "cells": [
  {
   "cell_type": "markdown",
   "metadata": {},
   "source": [
    "## This script should demonstrate the main functions"
   ]
  },
  {
   "cell_type": "code",
   "execution_count": 1,
   "metadata": {},
   "outputs": [],
   "source": [
    "# from datetime import datetime\n",
    "# from sklearn.metrics import accuracy_score, f1_score, recall_score\n",
    "import os\n",
    "from openai import OpenAI\n",
    "from dotenv import load_dotenv\n",
    "import random\n",
    "import json\n",
    "from datetime import datetime, timedelta\n",
    "from utils.evaluation_utils import evaluate_label_single, calculate_overall_metrics\n",
    "from utils.generation_utils import generate_prompt, label2email"
   ]
  },
  {
   "cell_type": "code",
   "execution_count": 2,
   "metadata": {},
   "outputs": [],
   "source": [
    "pred_path = \"./data/test_examples/test_pred.json\"\n",
    "true_path = \"./data/test_examples/test_true.json\"\n",
    "with open(pred_path, 'r') as file:\n",
    "    pred_labels = json.load(file)\n",
    "with open(true_path, 'r') as file:\n",
    "    true_labels = json.load(file)"
   ]
  },
  {
   "cell_type": "code",
   "execution_count": 3,
   "metadata": {},
   "outputs": [
    {
     "data": {
      "text/plain": [
       "[{'Spam': 'No',\n",
       "  'Subject': 'Random Subject 85',\n",
       "  'Sender': 'sender46@example.com',\n",
       "  'send_date': '2024-03-12 14:45',\n",
       "  'Time_Sensitive': 'Yes',\n",
       "  'Start': '2024-11-20 09:17',\n",
       "  'End': '2024-11-20 11:20',\n",
       "  'Type': 'Event',\n",
       "  'Category': 'Work',\n",
       "  'Format': 'Online',\n",
       "  'Location': 'Location 7',\n",
       "  'Action_Required': 'Yes',\n",
       "  'Priority_Level': 'High'},\n",
       " {'Spam': 'Yes',\n",
       "  'Subject': 'Random Subject 29',\n",
       "  'Sender': 'sender31@example.com',\n",
       "  'send_date': '2024-09-09 03:19',\n",
       "  'Time_Sensitive': 'No',\n",
       "  'Start': '2024-07-18 10:33',\n",
       "  'End': '2024-07-18 11:33',\n",
       "  'Type': 'Reminder',\n",
       "  'Category': 'Study',\n",
       "  'Format': 'In-person',\n",
       "  'Location': 'Location 5',\n",
       "  'Action_Required': 'No',\n",
       "  'Priority_Level': 'Medium'},\n",
       " {'Spam': 'No',\n",
       "  'Subject': 'Random Subject 10',\n",
       "  'Sender': 'sender89@example.com',\n",
       "  'send_date': '2024-01-21 16:21',\n",
       "  'Time_Sensitive': 'Yes',\n",
       "  'Start': '2024-05-03 09:45',\n",
       "  'End': '2024-05-03 10:45',\n",
       "  'Type': 'Event',\n",
       "  'Category': 'Leisure',\n",
       "  'Format': 'Online',\n",
       "  'Location': 'Location 1',\n",
       "  'Action_Required': 'Yes',\n",
       "  'Priority_Level': 'Urgent'},\n",
       " {'Spam': 'No',\n",
       "  'Subject': 'Random Subject 33',\n",
       "  'Sender': 'sender53@example.com',\n",
       "  'send_date': '2024-06-06 19:37',\n",
       "  'Time_Sensitive': 'No',\n",
       "  'Start': '2024-10-01 08:00',\n",
       "  'End': '2024-10-01 09:30',\n",
       "  'Type': 'N/A',\n",
       "  'Category': 'Work',\n",
       "  'Format': 'In-person',\n",
       "  'Location': 'Location 3',\n",
       "  'Action_Required': 'No',\n",
       "  'Priority_Level': 'Low'},\n",
       " {'Spam': 'No',\n",
       "  'Subject': 'Random Subject 63',\n",
       "  'Sender': 'sender26@example.com',\n",
       "  'send_date': '2024-05-24 12:10',\n",
       "  'Time_Sensitive': 'Yes',\n",
       "  'Start': '2024-11-01 10:00',\n",
       "  'End': '2024-11-01 11:30',\n",
       "  'Type': 'Event',\n",
       "  'Category': 'Study',\n",
       "  'Format': 'Online',\n",
       "  'Location': 'Location 6',\n",
       "  'Action_Required': 'Yes',\n",
       "  'Priority_Level': 'High'}]"
      ]
     },
     "execution_count": 3,
     "metadata": {},
     "output_type": "execute_result"
    }
   ],
   "source": [
    "pred_labels"
   ]
  },
  {
   "cell_type": "code",
   "execution_count": 4,
   "metadata": {},
   "outputs": [
    {
     "data": {
      "text/plain": [
       "{'Binary Metrics': {'Spam': {'ACC': 0.8,\n",
       "   'F1': 0.8888888888888888,\n",
       "   'Recall': 0.8},\n",
       "  'Time_Sensitive': {'ACC': 1.0, 'F1': 1.0, 'Recall': 1.0}},\n",
       " 'Categorical Metrics': {'Time Period': 0.8,\n",
       "  'Type': 1.0,\n",
       "  'Category': 1.0,\n",
       "  'Format': 1.0,\n",
       "  'Priority_Level': 1.0},\n",
       " 'Averaged Weighted Score': 0.76}"
      ]
     },
     "execution_count": 4,
     "metadata": {},
     "output_type": "execute_result"
    }
   ],
   "source": [
    "results = []\n",
    "assert len(pred_labels) == len(true_labels)\n",
    "for i in range(len(pred_labels)):\n",
    "    results.append(evaluate_label_single(pred_labels[i], true_labels[i]))\n",
    "metrics = calculate_overall_metrics(results)\n",
    "metrics"
   ]
  },
  {
   "cell_type": "code",
   "execution_count": 5,
   "metadata": {},
   "outputs": [],
   "source": [
    "# Load the environment variables from the .env file\n",
    "# In this .env, it contains openai's API Key.\n",
    "load_dotenv()\n",
    "# Load the key to call the client.\n",
    "client = OpenAI()\n",
    "model_name=\"gpt-4o-mini\"\n"
   ]
  },
  {
   "cell_type": "code",
   "execution_count": 6,
   "metadata": {},
   "outputs": [
    {
     "data": {
      "text/plain": [
       "'From: sender46@example.com  \\nDate: 2024-11-20  \\nSubject: Random Subject 85  \\n\\nDear Team,  \\n\\nI hope this message finds you well. I wanted to inform you about an upcoming online session scheduled for November 20, 2024, from 9:17 AM to 11:25 AM. We will be meeting virtually at Location 7.  \\n\\nPlease confirm your attendance at your earliest convenience, and do not hesitate to reach out if you have any questions or need assistance accessing the session. Your participation is highly valued, and I look forward to seeing everyone online.  \\n\\nThank you for your cooperation!  \\n\\nBest,  \\n[Your Name]  \\nsender46@example.com  '"
      ]
     },
     "execution_count": 6,
     "metadata": {},
     "output_type": "execute_result"
    }
   ],
   "source": [
    "sys_prompt, task_prompt = generate_prompt(true_labels[0])\n",
    "label2email(label=true_labels[0], client=client, temperature=1.0, model=model_name)"
   ]
  },
  {
   "cell_type": "code",
   "execution_count": null,
   "metadata": {},
   "outputs": [],
   "source": []
  }
 ],
 "metadata": {
  "kernelspec": {
   "display_name": "nlp",
   "language": "python",
   "name": "python3"
  },
  "language_info": {
   "codemirror_mode": {
    "name": "ipython",
    "version": 3
   },
   "file_extension": ".py",
   "mimetype": "text/x-python",
   "name": "python",
   "nbconvert_exporter": "python",
   "pygments_lexer": "ipython3",
   "version": "3.10.14"
  }
 },
 "nbformat": 4,
 "nbformat_minor": 2
}
