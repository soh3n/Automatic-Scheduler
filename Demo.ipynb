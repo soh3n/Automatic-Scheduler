{
 "cells": [
  {
   "cell_type": "markdown",
   "metadata": {},
   "source": [
    "## This script should demonstrate the main functions"
   ]
  },
  {
   "cell_type": "code",
   "execution_count": 1,
   "metadata": {},
   "outputs": [],
   "source": [
    "# from datetime import datetime\n",
    "# from sklearn.metrics import accuracy_score, f1_score, recall_score\n",
    "import os\n",
    "from openai import OpenAI\n",
    "from dotenv import load_dotenv\n",
    "import random\n",
    "import json\n",
    "from datetime import datetime, timedelta\n",
    "from utils.evaluation_utils import evaluate_label_single, calculate_overall_metrics\n",
    "from utils.generation_utils import generate_prompt, label2email\n",
    "from utils.labeling_utils import re_analyze_email, gpt_label, gpt_label_eg, gpt_label_ft\n",
    "from utils.gpt_utils import gpt_completion"
   ]
  },
  {
   "cell_type": "code",
   "execution_count": 2,
   "metadata": {},
   "outputs": [],
   "source": [
    "# Load the environment variables from the .env file\n",
    "# In this .env, it contains openai's API Key.\n",
    "load_dotenv()\n",
    "# Load the key to call the client.\n",
    "client = OpenAI()\n",
    "model_name=\"gpt-4o-mini\"\n",
    "# model_name=\"gpt-4o\""
   ]
  },
  {
   "cell_type": "code",
   "execution_count": 3,
   "metadata": {},
   "outputs": [],
   "source": [
    "test_data_path = \"./data/PAIRED_test.json\"\n",
    "with open(test_data_path, 'r') as file:\n",
    "    test_data = json.load(file)\n",
    "\n",
    "train_data_path = \"./data/PAIRED_train.json\"\n",
    "with open(train_data_path, 'r') as file:\n",
    "    train_data = json.load(file)"
   ]
  },
  {
   "cell_type": "markdown",
   "metadata": {},
   "source": [
    "## 1. If you want to write an email\n",
    "Let's say that you want to held a study session for CS6320, and you write an email to all of your team:"
   ]
  },
  {
   "cell_type": "code",
   "execution_count": 8,
   "metadata": {},
   "outputs": [],
   "source": [
    "label_studysession = {\n",
    "    \"Spam\":\"No\",\n",
    "    \"Subject\": \"Study Session for NLP 6320 Final Exam\",\n",
    "    \"Sender\": \"Edward\",\n",
    "    \"send_date\": \"2024-12-06\",\n",
    "    \"Time_Sensitive\": \"Yes\",\n",
    "    \"Start\": \"2024-12-06 13:30\",\n",
    "    \"End\": \"2024-12-06 15:30\",\n",
    "    \"Type\": \"Event\",\n",
    "    \"Category\": \"Study\",\n",
    "    \"Format\": \"In-person\",\n",
    "    \"Location\": \"Library\",\n",
    "    \"Action_Required\": \"Yes\",\n",
    "    \"Priority_Level\": \"High\"\n",
    "}"
   ]
  },
  {
   "cell_type": "code",
   "execution_count": 9,
   "metadata": {},
   "outputs": [
    {
     "name": "stdout",
     "output_type": "stream",
     "text": [
      "From: Edward  \n",
      "Sent: 2024-12-06  \n",
      "Subject: Study Session for NLP 6320 Final Exam  \n",
      "\n",
      "Dear Classmates,\n",
      "\n",
      "I hope you are all doing well! I’m organizing a study session for our NLP 6320 final exam today, December 6, 2024, from 1:30 PM to 3:30 PM in the library. This will be a great opportunity for us to review key topics, share insights, and clarify any doubts as we prepare for the exam.\n",
      "\n",
      "Please let me know if you can make it, so I can arrange adequate space and materials for everyone. Your participation would be highly beneficial for all of us!\n",
      "\n",
      "Looking forward to hearing from you soon!\n",
      "\n",
      "Best,  \n",
      "Edward\n"
     ]
    }
   ],
   "source": [
    "email = label2email(label_studysession, client, temperature=1.0, model=model_name)\n",
    "print(email)"
   ]
  },
  {
   "cell_type": "markdown",
   "metadata": {},
   "source": [
    "## 2. If you received an email and you want to add it to your calendar:"
   ]
  },
  {
   "cell_type": "code",
   "execution_count": 14,
   "metadata": {},
   "outputs": [],
   "source": [
    "email_received = \"\"\"\n",
    "From: Edward  \n",
    "Date: 2024-12-03  \n",
    "Subject: Office Hour of CS1234\n",
    "\n",
    "Hi all,\n",
    "\n",
    "According to the requirements by some students, I'll held a special office-hour today, starting from 1PM to 2PM.\n",
    "We will talk about final exams, and I will answer your questions regarding the exam.\n",
    "I'll send an MS Teams link for this later.\n",
    "\n",
    "Regards,\n",
    "Edward\n",
    "\n",
    "\"\"\""
   ]
  },
  {
   "cell_type": "code",
   "execution_count": 15,
   "metadata": {},
   "outputs": [
    {
     "name": "stdout",
     "output_type": "stream",
     "text": [
      "{\n",
      "    \"Spam\": \"No\",\n",
      "    \"Subject\": \"Office Hour of CS1234\",\n",
      "    \"Sender\": \"Edward\",\n",
      "    \"send_date\": \"2024-12-03\",\n",
      "    \"Time_Sensitive\": \"Yes\",\n",
      "    \"Start\": \"2024-12-03 13:00\",\n",
      "    \"End\": \"2024-12-03 14:00\",\n",
      "    \"Type\": \"Event\",\n",
      "    \"Category\": \"Study\",\n",
      "    \"Format\": \"Online\",\n",
      "    \"Location\": \"MS Teams (link to be sent later)\",\n",
      "    \"Action_Required\": \"No\",\n",
      "    \"Priority_Level\": \"Medium\"\n",
      "}\n"
     ]
    }
   ],
   "source": [
    "label = gpt_label_eg(client, email_received, train_data, temperature=0.7, model=model_name)\n",
    "print(label)"
   ]
  },
  {
   "cell_type": "code",
   "execution_count": null,
   "metadata": {},
   "outputs": [],
   "source": []
  }
 ],
 "metadata": {
  "kernelspec": {
   "display_name": "nlp",
   "language": "python",
   "name": "python3"
  },
  "language_info": {
   "codemirror_mode": {
    "name": "ipython",
    "version": 3
   },
   "file_extension": ".py",
   "mimetype": "text/x-python",
   "name": "python",
   "nbconvert_exporter": "python",
   "pygments_lexer": "ipython3",
   "version": "3.10.14"
  }
 },
 "nbformat": 4,
 "nbformat_minor": 2
}
