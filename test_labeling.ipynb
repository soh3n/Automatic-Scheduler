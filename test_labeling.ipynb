{
 "cells": [
  {
   "cell_type": "code",
   "execution_count": 1,
   "metadata": {},
   "outputs": [],
   "source": [
    "import re\n",
    "import json\n",
    "import os\n",
    "from openai import OpenAI\n",
    "from dotenv import load_dotenv\n",
    "from utils.labeling_utils import re_analyze_email, gpt_label, gpt_label_eg\n",
    "# from utils.gpt_utils import gpt_completion"
   ]
  },
  {
   "cell_type": "code",
   "execution_count": 2,
   "metadata": {},
   "outputs": [],
   "source": [
    "test_data_path = \"./data/PAIRED_test.json\"\n",
    "with open(test_data_path, 'r') as file:\n",
    "    test_data = json.load(file)\n",
    "\n",
    "train_data_path = \"./data/PAIRED_train.json\"\n",
    "with open(train_data_path, 'r') as file:\n",
    "    train_data = json.load(file)"
   ]
  },
  {
   "cell_type": "markdown",
   "metadata": {},
   "source": [
    "## Baseline: Using Regular Expressions\n"
   ]
  },
  {
   "cell_type": "code",
   "execution_count": 3,
   "metadata": {},
   "outputs": [
    {
     "data": {
      "text/plain": [
       "{'Spam': 'Yes',\n",
       " 'Subject': 'WELLS GARDNER DISPLAYS',\n",
       " 'Sender': 'BERT::MEYETTE',\n",
       " 'send_date': '1992-02-04',\n",
       " 'Time_Sensitive': 'N/A',\n",
       " 'Start': 'N/A',\n",
       " 'End': 'N/A',\n",
       " 'Type': 'N/A',\n",
       " 'Category': 'N/A',\n",
       " 'Format': 'N/A',\n",
       " 'Location': 'N/A',\n",
       " 'Action_Required': 'No',\n",
       " 'Priority_Level': 'Low'}"
      ]
     },
     "execution_count": 3,
     "metadata": {},
     "output_type": "execute_result"
    }
   ],
   "source": [
    "re_analyze_email(test_data[0]['content'])"
   ]
  },
  {
   "cell_type": "code",
   "execution_count": 4,
   "metadata": {},
   "outputs": [
    {
     "data": {
      "text/plain": [
       "{'Spam': 'No',\n",
       " 'Subject': 'WELLS GARDNER DISPLAYS',\n",
       " 'Sender': 'BERT::MEYETTE',\n",
       " 'send_date': '1992-02-04',\n",
       " 'Time_Sensitive': 'Yes',\n",
       " 'Start': '1992-02-18 00:00',\n",
       " 'End': '',\n",
       " 'Type': 'Reminder',\n",
       " 'Category': 'Work',\n",
       " 'Format': 'In-person',\n",
       " 'Location': 'Wells Gardner',\n",
       " 'Action_Required': 'Yes',\n",
       " 'Priority_Level': 'High'}"
      ]
     },
     "execution_count": 4,
     "metadata": {},
     "output_type": "execute_result"
    }
   ],
   "source": [
    "test_data[0]['label']"
   ]
  },
  {
   "cell_type": "markdown",
   "metadata": {},
   "source": [
    "## Method 1: GPT with instructions"
   ]
  },
  {
   "cell_type": "markdown",
   "metadata": {},
   "source": [
    "PROMPT:\n",
    "\n",
    "Your task is to label received emails into a template:\n",
    "{\n",
    "\n",
    "    \"Spam\": \"Yes\" / \"No\",\n",
    "    \"Subject\": ,\n",
    "    \"Sender\": ,\n",
    "    \"send_date\": ,\n",
    "    \"Time_Sensitive\": \"Yes\" / \"No\",\n",
    "    \"Start\": ,\n",
    "    \"End\": ,\n",
    "    \"Type\": \"Event\" / \"Reminder\" / \"N/A\",\n",
    "    \"Category\": \"Work\" / \"Study\" / \"Leisure\",\n",
    "    \"Format\": \"Online\" / \"In-person\",\n",
    "    \"Location\": ,\n",
    "    \"Action_Required\": \"Yes\" / \"No\",\n",
    "    \"Priority_Level\": \"Low\" / \"Medium\" / \"High\" / \"Urgent\"\n",
    "    \n",
    "}\n",
    "For the key-value pair in the dict, every key is necessary, the value is required field.\n",
    "Use standard time format like '1992-01-10 15:30' for time or '1992-01-10' for date."
   ]
  },
  {
   "cell_type": "code",
   "execution_count": 5,
   "metadata": {},
   "outputs": [],
   "source": [
    "# Load the environment variables from the .env file\n",
    "# In this .env, it contains openai's API Key.\n",
    "load_dotenv()\n",
    "# Load the key to call the client.\n",
    "client = OpenAI()\n",
    "model_name=\"gpt-4o-mini\""
   ]
  },
  {
   "cell_type": "code",
   "execution_count": 6,
   "metadata": {},
   "outputs": [],
   "source": [
    "label = gpt_label(client, test_data[0]['content'], temperature=1.0, model=model_name)"
   ]
  },
  {
   "cell_type": "code",
   "execution_count": 7,
   "metadata": {},
   "outputs": [
    {
     "data": {
      "text/plain": [
       "{'Spam': 'No',\n",
       " 'Subject': 'WELLS GARDNER DISPLAYS',\n",
       " 'Sender': 'BERT::MEYETTE',\n",
       " 'send_date': '1992-02-04',\n",
       " 'Time_Sensitive': 'Yes',\n",
       " 'Start': '1992-02-18 00:00',\n",
       " 'End': '1992-02-18 23:59',\n",
       " 'Type': 'Event',\n",
       " 'Category': 'Work',\n",
       " 'Format': 'In-person',\n",
       " 'Location': 'Wells Gardner',\n",
       " 'Action_Required': 'Yes',\n",
       " 'Priority_Level': 'High'}"
      ]
     },
     "execution_count": 7,
     "metadata": {},
     "output_type": "execute_result"
    }
   ],
   "source": [
    "json.loads(label)"
   ]
  },
  {
   "cell_type": "code",
   "execution_count": 8,
   "metadata": {},
   "outputs": [
    {
     "data": {
      "text/plain": [
       "{'Spam': 'No',\n",
       " 'Subject': 'WELLS GARDNER DISPLAYS',\n",
       " 'Sender': 'BERT::MEYETTE',\n",
       " 'send_date': '1992-02-04',\n",
       " 'Time_Sensitive': 'Yes',\n",
       " 'Start': '1992-02-18 00:00',\n",
       " 'End': '',\n",
       " 'Type': 'Reminder',\n",
       " 'Category': 'Work',\n",
       " 'Format': 'In-person',\n",
       " 'Location': 'Wells Gardner',\n",
       " 'Action_Required': 'Yes',\n",
       " 'Priority_Level': 'High'}"
      ]
     },
     "execution_count": 8,
     "metadata": {},
     "output_type": "execute_result"
    }
   ],
   "source": [
    "test_data[0]['label']"
   ]
  },
  {
   "cell_type": "markdown",
   "metadata": {},
   "source": [
    "## Method 2: GPT with crafted instructions + examples"
   ]
  },
  {
   "cell_type": "markdown",
   "metadata": {},
   "source": [
    "PROMPT + several examples from train_set"
   ]
  },
  {
   "cell_type": "code",
   "execution_count": 9,
   "metadata": {},
   "outputs": [],
   "source": [
    "label = gpt_label_eg(client, test_data[0]['content'], train_data, temperature=0.7, model=model_name)"
   ]
  },
  {
   "cell_type": "code",
   "execution_count": 10,
   "metadata": {},
   "outputs": [
    {
     "data": {
      "text/plain": [
       "{'Spam': 'No',\n",
       " 'Subject': 'Wells Gardner Displays',\n",
       " 'Sender': 'BERT::MEYETTE',\n",
       " 'send_date': '1992-02-04',\n",
       " 'Time_Sensitive': 'Yes',\n",
       " 'Start': '1992-02-18 00:00',\n",
       " 'End': '',\n",
       " 'Type': 'Reminder',\n",
       " 'Category': 'Work',\n",
       " 'Format': 'In-person',\n",
       " 'Location': 'Wells Gardner',\n",
       " 'Action_Required': 'Yes',\n",
       " 'Priority_Level': 'High'}"
      ]
     },
     "execution_count": 10,
     "metadata": {},
     "output_type": "execute_result"
    }
   ],
   "source": [
    "json.loads(label)"
   ]
  },
  {
   "cell_type": "code",
   "execution_count": 11,
   "metadata": {},
   "outputs": [
    {
     "data": {
      "text/plain": [
       "{'Spam': 'No',\n",
       " 'Subject': 'WELLS GARDNER DISPLAYS',\n",
       " 'Sender': 'BERT::MEYETTE',\n",
       " 'send_date': '1992-02-04',\n",
       " 'Time_Sensitive': 'Yes',\n",
       " 'Start': '1992-02-18 00:00',\n",
       " 'End': '',\n",
       " 'Type': 'Reminder',\n",
       " 'Category': 'Work',\n",
       " 'Format': 'In-person',\n",
       " 'Location': 'Wells Gardner',\n",
       " 'Action_Required': 'Yes',\n",
       " 'Priority_Level': 'High'}"
      ]
     },
     "execution_count": 11,
     "metadata": {},
     "output_type": "execute_result"
    }
   ],
   "source": [
    "test_data[0]['label']"
   ]
  },
  {
   "cell_type": "markdown",
   "metadata": {},
   "source": [
    "## Method 2: GPT with instructions + examples"
   ]
  },
  {
   "cell_type": "code",
   "execution_count": 71,
   "metadata": {},
   "outputs": [],
   "source": [
    "def generate_examples(example_list):\n",
    "    assert len(example_list) >= 4\n",
    "    example = f\"\"\"\n",
    "    Email: {example_list[0][\"content\"]}\n",
    "    Label: {example_list[0][\"label\"]}\n",
    "\n",
    "    Email: {example_list[1][\"content\"]}\n",
    "    Label: {example_list[1][\"label\"]}\n",
    "\n",
    "    Email: {example_list[2][\"content\"]}\n",
    "    Label: {example_list[2][\"label\"]}\n",
    "\n",
    "    Email: {example_list[3][\"content\"]}\n",
    "    Label: {example_list[3][\"label\"]}\n",
    "\n",
    "    Email: {example_list[4][\"content\"]}\n",
    "    Label: {example_list[4][\"label\"]}\n",
    "    \"\"\"\n",
    "    return example"
   ]
  },
  {
   "cell_type": "code",
   "execution_count": 72,
   "metadata": {},
   "outputs": [
    {
     "data": {
      "text/plain": [
       "'\\n    Email: From: Wei Zhang  \\nDate: 2024-11-11  \\nSubject: Important: Our Team Meeting Scheduled for November 22 at 3 PM  \\n\\nDear Team,\\n\\nI hope this message finds you well. I wanted to remind you of our upcoming team meeting scheduled for November 22, 2024, at 3:00 PM. The exact location will be determined closer to the date, and I will provide an update as soon as possible.\\n\\nYour presence and input will be valuable as we discuss important matters affecting our projects. Please mark your calendars and prepare any topics you would like to discuss.\\n\\nThank you for your attention, and I look forward to seeing all of you there!\\n\\nBest regards,  \\nWei Zhang\\n    Label: {\\'Spam\\': \\'No\\', \\'Subject\\': \\'Important: Our Team Meeting Scheduled for November 22 at 3 PM\\', \\'Sender\\': \\'Wei Zhang\\', \\'send_date\\': \\'2024-11-20\\', \\'Time_Sensitive\\': \\'Yes\\', \\'Start\\': \\'2024-11-22 15:00\\', \\'End\\': \\'\\', \\'Type\\': \\'Reminder\\', \\'Category\\': \\'Work\\', \\'Format\\': \\'In-person\\', \\'Location\\': \\'TBD\\', \\'Action_Required\\': \\'No\\', \\'Priority_Level\\': \\'Medium\\'}\\n\\n    Email: From: Kwame Boateng  \\nDate: 2024-11-13  \\nSubject: Exploring Northern Park Fields  \\n\\nHi everyone,\\n\\nI hope this message finds you well! I’m excited to share that I’ll be organizing a casual exploration of Northern Park Fields this coming weekend. We’ll meet at North Park Gate 1 at a time that works best for everyone—I suggest Saturday morning, but I’m open to other suggestions as well.\\n\\nThis will be a great opportunity to enjoy the outdoors, chat, and perhaps discover more about our local natural surroundings. It\\'s all informal, so feel free to bring a friend!\\n\\nThere’s no need to RSVP; just show up with your adventurous spirit!\\n\\nLooking forward to seeing you out there.\\n\\nBest,  \\nKwame Boateng\\n    Label: {\\'Spam\\': \\'No\\', \\'Subject\\': \\'Exploring Northen Park Fields\\', \\'Sender\\': \\'Kwame Boateng\\', \\'send_date\\': \\'2024-11-09\\', \\'Time_Sensitive\\': \\'No\\', \\'Start\\': \\'\\', \\'End\\': \\'\\', \\'Type\\': \\'Event\\', \\'Category\\': \\'Leisure\\', \\'Format\\': \\'In-person\\', \\'Location\\': \\'North Park Gate 1\\', \\'Action_Required\\': \\'No\\', \\'Priority_Level\\': \\'Low\\'}\\n\\n    Email: From: Jessica Taylor  \\nDate: 2024-11-20  \\nSubject: Don\\'t Forget Our Catch-Up on Saturday!\\n\\nHi there,\\n\\nI hope you’re doing well! Just a friendly reminder about our catch-up this Saturday, November 23, 2024, at 11:00 AM. We’ll be connecting online via Skype, and I’m really looking forward to our conversation.\\n\\nFeel free to bring any topics you’d like to discuss or just come ready to catch up! \\n\\nSee you then!\\n\\nBest,  \\nJessica Taylor\\n    Label: {\\'Spam\\': \\'No\\', \\'Subject\\': \"Don\\'t forget our catch-up on Saturday!\", \\'Sender\\': \\'Jessica Taylor\\', \\'send_date\\': \\'2024-11-19\\', \\'Time_Sensitive\\': \\'Yes\\', \\'Start\\': \\'2024-11-23 11:00\\', \\'End\\': \\'\\', \\'Type\\': \\'Reminder\\', \\'Category\\': \\'Leisure\\', \\'Format\\': \\'Online\\', \\'Location\\': \\'Skype\\', \\'Action_Required\\': \\'No\\', \\'Priority_Level\\': \\'Low\\'}\\n\\n    Email: From: Putri Dewi  \\nDate: 2024-11-11  \\nSubject: Team Report Meeting Re-scheduled for November 15th  \\n\\nDear Team,\\n\\nI hope this message finds you well. Please note that our Team Report Meeting has been re-scheduled to Friday, November 15, 2024. We will meet in my office from 10:45 AM to 11:45 AM. \\n\\nCould you please confirm your attendance at your earliest convenience? If you have any questions or concerns about the agenda or topics to be discussed, feel free to reach out.\\n\\nThank you for your understanding and cooperation.\\n\\nBest regards,  \\nPutri Dewi  \\n    Label: {\\'Spam\\': \\'No\\', \\'Subject\\': \\'Team Report Meeting Re-scheduled for November 15th\\', \\'Sender\\': \\'Putri Dewi\\', \\'send_date\\': \\'2024-11-13\\', \\'Time_Sensitive\\': \\'Yes\\', \\'Start\\': \\'2024-11-15 10:45\\', \\'End\\': \\'2024-11-15 11:45\\', \\'Type\\': \\'Event\\', \\'Category\\': \\'Work\\', \\'Format\\': \\'In-person\\', \\'Location\\': \\'my office\\', \\'Action_Required\\': \\'Yes\\', \\'Priority_Level\\': \\'High\\'}\\n\\n    Email: From: Zoltán Nagy  \\nSent: 2024-11-11  \\nSubject: Upcoming Deadline Review  \\n\\nDear Team,  \\n\\nI would like to remind you that we will have an upcoming deadline review on Tuesday, November 12, 2024, at 4:15 PM. The meeting will be hosted online via Google Meet.  \\n\\nPlease prepare to discuss your progress and any challenges you may be facing as we approach this deadline. Your input will be valuable for ensuring we stay on track.  \\n\\nIf you have any questions before the meeting, feel free to reach out. I look forward to our discussion.  \\n\\nBest regards,  \\nZoltán Nagy  \\n    Label: {\\'Spam\\': \\'No\\', \\'Subject\\': \\'Upcoming deadline review\\', \\'Sender\\': \\'Zoltán Nagy\\', \\'send_date\\': \\'2024-11-05\\', \\'Time_Sensitive\\': \\'Yes\\', \\'Start\\': \\'2024-11-12 16:15\\', \\'End\\': \\'\\', \\'Type\\': \\'Reminder\\', \\'Category\\': \\'Work\\', \\'Format\\': \\'Online\\', \\'Location\\': \\'Google Meet\\', \\'Action_Required\\': \\'No\\', \\'Priority_Level\\': \\'High\\'}\\n    '"
      ]
     },
     "execution_count": 72,
     "metadata": {},
     "output_type": "execute_result"
    }
   ],
   "source": [
    "generate_examples(train_data)"
   ]
  },
  {
   "cell_type": "code",
   "execution_count": 73,
   "metadata": {},
   "outputs": [],
   "source": [
    "system_prompt_eg = \"\"\"You are a personal secretary. You are an expert of analyzing emails and summarize\n",
    "them into required form.\n",
    "\"\"\"\n",
    "\n",
    "task_prompt_eg_ = f\"\"\"Your task is to analyze received emails and label them into the following template:\n",
    "{{\n",
    "    \"Spam\": \"Yes\" / \"No\",\n",
    "    \"Subject\": \"string\",\n",
    "    \"Sender\": \"string\",\n",
    "    \"send_date\": \"YYYY-MM-DD\",\n",
    "    \"Time_Sensitive\": \"Yes\" / \"No\",\n",
    "    \"Start\": \"YYYY-MM-DD HH:MM\",\n",
    "    \"End\": \"YYYY-MM-DD HH:MM\",\n",
    "    \"Type\": \"Event\" / \"Reminder\" / \"N/A\",\n",
    "    \"Category\": \"Work\" / \"Study\" / \"Leisure\",\n",
    "    \"Format\": \"Online\" / \"In-person\",\n",
    "    \"Location\": \"string\",\n",
    "    \"Action_Required\": \"Yes\" / \"No\",\n",
    "    \"Priority_Level\": \"Low\" / \"Medium\" / \"High\" / \"Urgent\"\n",
    "}}\n",
    "\n",
    "### Instructions:\n",
    "1. Every key in the template is required, and the value for each key must be provided.\n",
    "2. Use the following formats:\n",
    "   - **Time**: 'YYYY-MM-DD HH:MM' (e.g., '1992-01-10 15:30')\n",
    "   - **Date**: 'YYYY-MM-DD' (e.g., '1992-01-10')\n",
    "3. Analyze the email content carefully to extract the appropriate values for each field.\n",
    "4. Email with only a start stamp is more likely a reminder; with both start and end stamp is an event\n",
    "\n",
    "Here are some examples for reference:\n",
    "\n",
    "Email: {train_data[0][\"content\"]}\n",
    "Label: {train_data[0][\"label\"]}\n",
    "\n",
    "Email: {train_data[1][\"content\"]}\n",
    "Label: {train_data[1][\"label\"]}\n",
    "\n",
    "Email: {train_data[2][\"content\"]}\n",
    "Label: {train_data[2][\"label\"]}\n",
    "\n",
    "Email: {train_data[3][\"content\"]}\n",
    "Label: {train_data[3][\"label\"]}\n",
    "\n",
    "Email: {train_data[4][\"content\"]}\n",
    "Label: {train_data[4][\"label\"]}\n",
    "\"\"\"\n",
    "\n",
    "task_prompt_eg = f\"\"\"Your task is to analyze received emails and label them into the following template:\n",
    "{{\n",
    "    \"Spam\": \"Yes\" / \"No\",\n",
    "    \"Subject\": \"string\",\n",
    "    \"Sender\": \"string\",\n",
    "    \"send_date\": \"YYYY-MM-DD\",\n",
    "    \"Time_Sensitive\": \"Yes\" / \"No\",\n",
    "    \"Start\": \"YYYY-MM-DD HH:MM\",\n",
    "    \"End\": \"YYYY-MM-DD HH:MM\",\n",
    "    \"Type\": \"Event\" / \"Reminder\" / \"N/A\",\n",
    "    \"Category\": \"Work\" / \"Study\" / \"Leisure\",\n",
    "    \"Format\": \"Online\" / \"In-person\",\n",
    "    \"Location\": \"string\",\n",
    "    \"Action_Required\": \"Yes\" / \"No\",\n",
    "    \"Priority_Level\": \"Low\" / \"Medium\" / \"High\" / \"Urgent\"\n",
    "}}\n",
    "\n",
    "### Instructions:\n",
    "1. Every key in the template is required, and the value for each key must be provided.\n",
    "2. Use the following formats:\n",
    "   - **Time**: 'YYYY-MM-DD HH:MM' (e.g., '1992-01-10 15:30')\n",
    "   - **Date**: 'YYYY-MM-DD' (e.g., '1992-01-10')\n",
    "3. Analyze the email content carefully to extract the appropriate values for each field.\n",
    "4. Email with only a start stamp is more likely a reminder; with both start and end stamp is an event\n",
    "\n",
    "Here are some examples for reference:\n",
    "\n",
    "\"\"\""
   ]
  },
  {
   "cell_type": "code",
   "execution_count": 74,
   "metadata": {},
   "outputs": [],
   "source": [
    "def chat_gpt_label_eg(client, email, temperature=1.0, model=model_name):\n",
    "    '''\n",
    "    prompt: \n",
    "    model: \n",
    "    '''\n",
    "    task_prompt_ = task_prompt_eg  + generate_examples(train_data) + f\"Email: {email}; Label:\"\n",
    "    return gpt_completion(client, system_prompt, task_prompt_, temperature, model_name)"
   ]
  },
  {
   "cell_type": "code",
   "execution_count": 75,
   "metadata": {},
   "outputs": [],
   "source": [
    "label_eg = chat_gpt_label_eg(client, test_data[0]['content'])"
   ]
  },
  {
   "cell_type": "code",
   "execution_count": 76,
   "metadata": {},
   "outputs": [
    {
     "data": {
      "text/plain": [
       "'{\\n    \"Spam\": \"No\",\\n    \"Subject\": \"WELLS GARDNER DISPLAYS\",\\n    \"Sender\": \"BERT::MEYETTE\",\\n    \"send_date\": \"1992-02-04\",\\n    \"Time_Sensitive\": \"Yes\",\\n    \"Start\": \"1992-02-18 00:00\",\\n    \"End\": \"\",\\n    \"Type\": \"Reminder\",\\n    \"Category\": \"Work\",\\n    \"Format\": \"In-person\",\\n    \"Location\": \"Wells Gardner\",\\n    \"Action_Required\": \"Yes\",\\n    \"Priority_Level\": \"Urgent\"\\n}'"
      ]
     },
     "execution_count": 76,
     "metadata": {},
     "output_type": "execute_result"
    }
   ],
   "source": [
    "label_eg"
   ]
  },
  {
   "cell_type": "code",
   "execution_count": 77,
   "metadata": {},
   "outputs": [
    {
     "data": {
      "text/plain": [
       "{'Spam': 'No',\n",
       " 'Subject': 'WELLS GARDNER DISPLAYS',\n",
       " 'Sender': 'BERT::MEYETTE',\n",
       " 'send_date': '1992-02-04',\n",
       " 'Time_Sensitive': 'Yes',\n",
       " 'Start': '1992-02-18 00:00',\n",
       " 'End': '',\n",
       " 'Type': 'Reminder',\n",
       " 'Category': 'Work',\n",
       " 'Format': 'In-person',\n",
       " 'Location': 'Wells Gardner',\n",
       " 'Action_Required': 'Yes',\n",
       " 'Priority_Level': 'Urgent'}"
      ]
     },
     "execution_count": 77,
     "metadata": {},
     "output_type": "execute_result"
    }
   ],
   "source": [
    "json.loads(label_eg)"
   ]
  },
  {
   "cell_type": "code",
   "execution_count": 78,
   "metadata": {},
   "outputs": [
    {
     "data": {
      "text/plain": [
       "{'Spam': 'No',\n",
       " 'Subject': 'WELLS GARDNER DISPLAYS',\n",
       " 'Sender': 'BERT::MEYETTE',\n",
       " 'send_date': '1992-02-04',\n",
       " 'Time_Sensitive': 'Yes',\n",
       " 'Start': '1992-02-18 00:00',\n",
       " 'End': '',\n",
       " 'Type': 'Reminder',\n",
       " 'Category': 'Work',\n",
       " 'Format': 'In-person',\n",
       " 'Location': 'Wells Gardner',\n",
       " 'Action_Required': 'Yes',\n",
       " 'Priority_Level': 'High'}"
      ]
     },
     "execution_count": 78,
     "metadata": {},
     "output_type": "execute_result"
    }
   ],
   "source": [
    "test_data[0]['label']"
   ]
  },
  {
   "cell_type": "code",
   "execution_count": null,
   "metadata": {},
   "outputs": [],
   "source": []
  }
 ],
 "metadata": {
  "kernelspec": {
   "display_name": "nlp",
   "language": "python",
   "name": "python3"
  },
  "language_info": {
   "codemirror_mode": {
    "name": "ipython",
    "version": 3
   },
   "file_extension": ".py",
   "mimetype": "text/x-python",
   "name": "python",
   "nbconvert_exporter": "python",
   "pygments_lexer": "ipython3",
   "version": "3.10.14"
  }
 },
 "nbformat": 4,
 "nbformat_minor": 2
}
