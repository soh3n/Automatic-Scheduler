{
 "cells": [
  {
   "cell_type": "code",
   "execution_count": 15,
   "metadata": {},
   "outputs": [],
   "source": [
    "import re\n",
    "import json\n",
    "import os\n",
    "import ast\n",
    "from openai import OpenAI\n",
    "from dotenv import load_dotenv\n",
    "from utils.labeling_utils import re_analyze_email, gpt_label, gpt_label_eg, gpt_label_ft\n",
    "# from utils.gpt_utils import gpt_completion"
   ]
  },
  {
   "cell_type": "code",
   "execution_count": 2,
   "metadata": {},
   "outputs": [],
   "source": [
    "test_data_path = \"./data/PAIRED_test.json\"\n",
    "with open(test_data_path, 'r') as file:\n",
    "    test_data = json.load(file)\n",
    "\n",
    "train_data_path = \"./data/PAIRED_train.json\"\n",
    "with open(train_data_path, 'r') as file:\n",
    "    train_data = json.load(file)"
   ]
  },
  {
   "cell_type": "markdown",
   "metadata": {},
   "source": [
    "## Baseline: Using Regular Expressions\n"
   ]
  },
  {
   "cell_type": "code",
   "execution_count": 35,
   "metadata": {},
   "outputs": [],
   "source": [
    "label = re_analyze_email(test_data[0]['content'])"
   ]
  },
  {
   "cell_type": "code",
   "execution_count": 37,
   "metadata": {},
   "outputs": [
    {
     "data": {
      "text/plain": [
       "{'Spam': 'Yes',\n",
       " 'Subject': 'WELLS GARDNER DISPLAYS',\n",
       " 'Sender': 'BERT::MEYETTE',\n",
       " 'send_date': '1992-02-04',\n",
       " 'Time_Sensitive': 'N/A',\n",
       " 'Start': 'N/A',\n",
       " 'End': 'N/A',\n",
       " 'Type': 'N/A',\n",
       " 'Category': 'N/A',\n",
       " 'Format': 'N/A',\n",
       " 'Location': 'N/A',\n",
       " 'Action_Required': 'No',\n",
       " 'Priority_Level': 'Low'}"
      ]
     },
     "execution_count": 37,
     "metadata": {},
     "output_type": "execute_result"
    }
   ],
   "source": [
    "label"
   ]
  },
  {
   "cell_type": "code",
   "execution_count": 38,
   "metadata": {},
   "outputs": [
    {
     "data": {
      "text/plain": [
       "{'Spam': 'No',\n",
       " 'Subject': 'WELLS GARDNER DISPLAYS',\n",
       " 'Sender': 'BERT::MEYETTE',\n",
       " 'send_date': '1992-02-04',\n",
       " 'Time_Sensitive': 'Yes',\n",
       " 'Start': '1992-02-18 00:00',\n",
       " 'End': '',\n",
       " 'Type': 'Reminder',\n",
       " 'Category': 'Work',\n",
       " 'Format': 'In-person',\n",
       " 'Location': 'Wells Gardner',\n",
       " 'Action_Required': 'Yes',\n",
       " 'Priority_Level': 'High'}"
      ]
     },
     "execution_count": 38,
     "metadata": {},
     "output_type": "execute_result"
    }
   ],
   "source": [
    "test_data[0]['label']"
   ]
  },
  {
   "cell_type": "markdown",
   "metadata": {},
   "source": [
    "## Method 1: GPT with instructions"
   ]
  },
  {
   "cell_type": "markdown",
   "metadata": {},
   "source": [
    "PROMPT:\n",
    "\n",
    "Your task is to label received emails into a template:\n",
    "{\n",
    "\n",
    "    \"Spam\": \"Yes\" / \"No\",\n",
    "    \"Subject\": ,\n",
    "    \"Sender\": ,\n",
    "    \"send_date\": ,\n",
    "    \"Time_Sensitive\": \"Yes\" / \"No\",\n",
    "    \"Start\": ,\n",
    "    \"End\": ,\n",
    "    \"Type\": \"Event\" / \"Reminder\" / \"N/A\",\n",
    "    \"Category\": \"Work\" / \"Study\" / \"Leisure\",\n",
    "    \"Format\": \"Online\" / \"In-person\",\n",
    "    \"Location\": ,\n",
    "    \"Action_Required\": \"Yes\" / \"No\",\n",
    "    \"Priority_Level\": \"Low\" / \"Medium\" / \"High\" / \"Urgent\"\n",
    "    \n",
    "}\n",
    "For the key-value pair in the dict, every key is necessary, the value is required field.\n",
    "Use standard time format like '1992-01-10 15:30' for time or '1992-01-10' for date."
   ]
  },
  {
   "cell_type": "code",
   "execution_count": 5,
   "metadata": {},
   "outputs": [],
   "source": [
    "# Load the environment variables from the .env file\n",
    "# In this .env, it contains openai's API Key.\n",
    "load_dotenv()\n",
    "# Load the key to call the client.\n",
    "client = OpenAI()\n",
    "model_name=\"gpt-4o-mini\""
   ]
  },
  {
   "cell_type": "code",
   "execution_count": 31,
   "metadata": {},
   "outputs": [],
   "source": [
    "label = gpt_label(client, test_data[0]['content'], temperature=0.7, model=model_name)"
   ]
  },
  {
   "cell_type": "code",
   "execution_count": 32,
   "metadata": {},
   "outputs": [
    {
     "data": {
      "text/plain": [
       "{'Spam': 'No',\n",
       " 'Subject': 'WELLS GARDNER DISPLAYS',\n",
       " 'Sender': 'BERT::MEYETTE',\n",
       " 'send_date': '1992-02-04',\n",
       " 'Time_Sensitive': 'Yes',\n",
       " 'Start': '1992-02-18',\n",
       " 'End': '1992-02-18',\n",
       " 'Type': 'Event',\n",
       " 'Category': 'Work',\n",
       " 'Format': 'In-person',\n",
       " 'Location': 'Wells Gardner',\n",
       " 'Action_Required': 'Yes',\n",
       " 'Priority_Level': 'High'}"
      ]
     },
     "execution_count": 32,
     "metadata": {},
     "output_type": "execute_result"
    }
   ],
   "source": [
    "ast.literal_eval(label)"
   ]
  },
  {
   "cell_type": "code",
   "execution_count": 33,
   "metadata": {},
   "outputs": [
    {
     "data": {
      "text/plain": [
       "{'Spam': 'No',\n",
       " 'Subject': 'WELLS GARDNER DISPLAYS',\n",
       " 'Sender': 'BERT::MEYETTE',\n",
       " 'send_date': '1992-02-04',\n",
       " 'Time_Sensitive': 'Yes',\n",
       " 'Start': '1992-02-18 00:00',\n",
       " 'End': '',\n",
       " 'Type': 'Reminder',\n",
       " 'Category': 'Work',\n",
       " 'Format': 'In-person',\n",
       " 'Location': 'Wells Gardner',\n",
       " 'Action_Required': 'Yes',\n",
       " 'Priority_Level': 'High'}"
      ]
     },
     "execution_count": 33,
     "metadata": {},
     "output_type": "execute_result"
    }
   ],
   "source": [
    "test_data[0]['label']"
   ]
  },
  {
   "cell_type": "markdown",
   "metadata": {},
   "source": [
    "## Method 2: GPT with crafted instructions + examples"
   ]
  },
  {
   "cell_type": "markdown",
   "metadata": {},
   "source": [
    "PROMPT + several examples from train_set"
   ]
  },
  {
   "cell_type": "code",
   "execution_count": 23,
   "metadata": {},
   "outputs": [],
   "source": [
    "label = gpt_label_eg(client, test_data[0]['content'], train_data, temperature=0.7, model=model_name)"
   ]
  },
  {
   "cell_type": "code",
   "execution_count": 24,
   "metadata": {},
   "outputs": [
    {
     "data": {
      "text/plain": [
       "{'Spam': 'No',\n",
       " 'Subject': 'Wells Gardner Displays',\n",
       " 'Sender': 'BERT::MEYETTE',\n",
       " 'send_date': '1992-02-04',\n",
       " 'Time_Sensitive': 'Yes',\n",
       " 'Start': '1992-02-18 00:00',\n",
       " 'End': '',\n",
       " 'Type': 'Reminder',\n",
       " 'Category': 'Work',\n",
       " 'Format': 'In-person',\n",
       " 'Location': 'Wells Gardner',\n",
       " 'Action_Required': 'Yes',\n",
       " 'Priority_Level': 'High'}"
      ]
     },
     "execution_count": 24,
     "metadata": {},
     "output_type": "execute_result"
    }
   ],
   "source": [
    "ast.literal_eval(label)"
   ]
  },
  {
   "cell_type": "code",
   "execution_count": 25,
   "metadata": {},
   "outputs": [
    {
     "data": {
      "text/plain": [
       "{'Spam': 'No',\n",
       " 'Subject': 'WELLS GARDNER DISPLAYS',\n",
       " 'Sender': 'BERT::MEYETTE',\n",
       " 'send_date': '1992-02-04',\n",
       " 'Time_Sensitive': 'Yes',\n",
       " 'Start': '1992-02-18 00:00',\n",
       " 'End': '',\n",
       " 'Type': 'Reminder',\n",
       " 'Category': 'Work',\n",
       " 'Format': 'In-person',\n",
       " 'Location': 'Wells Gardner',\n",
       " 'Action_Required': 'Yes',\n",
       " 'Priority_Level': 'High'}"
      ]
     },
     "execution_count": 25,
     "metadata": {},
     "output_type": "execute_result"
    }
   ],
   "source": [
    "test_data[0]['label']"
   ]
  },
  {
   "cell_type": "markdown",
   "metadata": {},
   "source": [
    "## Method 3: GPT Fine-tuning with 35 data points"
   ]
  },
  {
   "cell_type": "markdown",
   "metadata": {},
   "source": [
    "Model_ID = ft:gpt-4o-mini-2024-07-18:personal:ft-schedular:AXN6Qt3B"
   ]
  },
  {
   "cell_type": "code",
   "execution_count": 26,
   "metadata": {},
   "outputs": [],
   "source": [
    "ft_model_name = \"ft:gpt-4o-mini-2024-07-18:personal:ft-schedular:AXN6Qt3B\""
   ]
  },
  {
   "cell_type": "code",
   "execution_count": 27,
   "metadata": {},
   "outputs": [],
   "source": [
    "label = gpt_label_ft(client, test_data[0]['content'], temperature=0.7, model=ft_model_name)"
   ]
  },
  {
   "cell_type": "code",
   "execution_count": 28,
   "metadata": {},
   "outputs": [
    {
     "data": {
      "text/plain": [
       "{'Spam': 'No',\n",
       " 'Subject': 'WELLS GARDNER DISPLAYS',\n",
       " 'Sender': 'Rick',\n",
       " 'send_date': '1992-02-04',\n",
       " 'Time_Sensitive': 'Yes',\n",
       " 'Start': '1992-02-18 00:00',\n",
       " 'End': '',\n",
       " 'Type': 'Reminder',\n",
       " 'Category': 'Work',\n",
       " 'Format': 'In-person',\n",
       " 'Location': 'Wells Gardner',\n",
       " 'Action_Required': 'Yes',\n",
       " 'Priority_Level': 'High'}"
      ]
     },
     "execution_count": 28,
     "metadata": {},
     "output_type": "execute_result"
    }
   ],
   "source": [
    "ast.literal_eval(label)"
   ]
  },
  {
   "cell_type": "code",
   "execution_count": 29,
   "metadata": {},
   "outputs": [
    {
     "data": {
      "text/plain": [
       "{'Spam': 'No',\n",
       " 'Subject': 'WELLS GARDNER DISPLAYS',\n",
       " 'Sender': 'BERT::MEYETTE',\n",
       " 'send_date': '1992-02-04',\n",
       " 'Time_Sensitive': 'Yes',\n",
       " 'Start': '1992-02-18 00:00',\n",
       " 'End': '',\n",
       " 'Type': 'Reminder',\n",
       " 'Category': 'Work',\n",
       " 'Format': 'In-person',\n",
       " 'Location': 'Wells Gardner',\n",
       " 'Action_Required': 'Yes',\n",
       " 'Priority_Level': 'High'}"
      ]
     },
     "execution_count": 29,
     "metadata": {},
     "output_type": "execute_result"
    }
   ],
   "source": [
    "test_data[0]['label']"
   ]
  },
  {
   "cell_type": "code",
   "execution_count": null,
   "metadata": {},
   "outputs": [],
   "source": []
  }
 ],
 "metadata": {
  "kernelspec": {
   "display_name": "nlp",
   "language": "python",
   "name": "python3"
  },
  "language_info": {
   "codemirror_mode": {
    "name": "ipython",
    "version": 3
   },
   "file_extension": ".py",
   "mimetype": "text/x-python",
   "name": "python",
   "nbconvert_exporter": "python",
   "pygments_lexer": "ipython3",
   "version": "3.10.14"
  }
 },
 "nbformat": 4,
 "nbformat_minor": 2
}
