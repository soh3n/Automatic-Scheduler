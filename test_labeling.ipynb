{
 "cells": [
  {
   "cell_type": "code",
   "execution_count": 1,
   "metadata": {},
   "outputs": [],
   "source": [
    "import re\n",
    "import json\n",
    "import os\n",
    "from openai import OpenAI\n",
    "from dotenv import load_dotenv\n",
    "from utils.labeling_utils import re_analyze_email"
   ]
  },
  {
   "cell_type": "code",
   "execution_count": 2,
   "metadata": {},
   "outputs": [],
   "source": [
    "test_data_path = \"./data/PAIRED_test.json\"\n",
    "with open(test_data_path, 'r') as file:\n",
    "    test_data = json.load(file)\n",
    "\n",
    "train_data_path = \"./data/PAIRED_train.json\"\n",
    "with open(train_data_path, 'r') as file:\n",
    "    train_data = json.load(file)"
   ]
  },
  {
   "cell_type": "markdown",
   "metadata": {},
   "source": [
    "## Baseline: Using Regular Expressions\n"
   ]
  },
  {
   "cell_type": "code",
   "execution_count": 3,
   "metadata": {},
   "outputs": [
    {
     "data": {
      "text/plain": [
       "{'Spam': 'Yes',\n",
       " 'Subject': 'WELLS GARDNER DISPLAYS',\n",
       " 'Sender': 'BERT::MEYETTE',\n",
       " 'send_date': '1992-02-04',\n",
       " 'Time_Sensitive': 'N/A',\n",
       " 'Start': 'N/A',\n",
       " 'End': 'N/A',\n",
       " 'Type': 'N/A',\n",
       " 'Category': 'N/A',\n",
       " 'Format': 'N/A',\n",
       " 'Location': 'N/A',\n",
       " 'Action_Required': 'No',\n",
       " 'Priority_Level': 'Low'}"
      ]
     },
     "execution_count": 3,
     "metadata": {},
     "output_type": "execute_result"
    }
   ],
   "source": [
    "re_analyze_email(test_data[0]['content'])"
   ]
  },
  {
   "cell_type": "code",
   "execution_count": 4,
   "metadata": {},
   "outputs": [
    {
     "data": {
      "text/plain": [
       "{'Spam': 'No',\n",
       " 'Subject': 'WELLS GARDNER DISPLAYS',\n",
       " 'Sender': 'BERT::MEYETTE',\n",
       " 'send_date': '1992-02-04',\n",
       " 'Time_Sensitive': 'Yes',\n",
       " 'Start': '1992-02-18 00:00',\n",
       " 'End': '',\n",
       " 'Type': 'Reminder',\n",
       " 'Category': 'Work',\n",
       " 'Format': 'In-person',\n",
       " 'Location': 'Wells Gardner',\n",
       " 'Action_Required': 'Yes',\n",
       " 'Priority_Level': 'High'}"
      ]
     },
     "execution_count": 4,
     "metadata": {},
     "output_type": "execute_result"
    }
   ],
   "source": [
    "test_data[0]['label']"
   ]
  },
  {
   "cell_type": "markdown",
   "metadata": {},
   "source": [
    "## Method 1: GPT with instructions"
   ]
  },
  {
   "cell_type": "code",
   "execution_count": 5,
   "metadata": {},
   "outputs": [],
   "source": [
    "# Load the environment variables from the .env file\n",
    "# In this .env, it contains openai's API Key.\n",
    "load_dotenv()\n",
    "# Load the key to call the client.\n",
    "client = OpenAI()\n",
    "model_name=\"gpt-4o-mini\""
   ]
  },
  {
   "cell_type": "code",
   "execution_count": 6,
   "metadata": {},
   "outputs": [],
   "source": [
    "system_prompt = \"\"\"You are a personal secretary. You are an expert of analyzing emails and summarize\n",
    "them into required form.\n",
    "\"\"\"\n",
    "\n",
    "task_prompt = \"\"\"Your task is to label received emails into a template:\n",
    "{\n",
    "    \"Spam\": \"Yes\" / \"No\",\n",
    "    \"Subject\": ,\n",
    "    \"Sender\": ,\n",
    "    \"send_date\": ,\n",
    "    \"Time_Sensitive\": \"Yes\" / \"No\",\n",
    "    \"Start\": ,\n",
    "    \"End\": ,\n",
    "    \"Type\": \"Event\" / \"Reminder\" / \"N/A\",\n",
    "    \"Category\": \"Work\" / \"Study\" / \"Leisure\",\n",
    "    \"Format\": \"Online\" / \"In-person\",\n",
    "    \"Location\": ,\n",
    "    \"Action_Required\": \"Yes\" / \"No\",\n",
    "    \"Priority_Level\": \"Low\" / \"Medium\" / \"High\" / \"Urgent\"\n",
    "}\n",
    "For the key-value pair in the dict, every key is necessary, the value is required field.\n",
    "Use standard time format like '1992-01-10 15:30' for time or '1992-01-10' for date.\n",
    "\"\"\"\n",
    "\n"
   ]
  },
  {
   "cell_type": "code",
   "execution_count": 7,
   "metadata": {},
   "outputs": [],
   "source": [
    "def chat_gpt_label(email, temperature=1.0, model=model_name):\n",
    "    '''\n",
    "    prompt: \n",
    "    model: \n",
    "    '''\n",
    "    task_prompt_ = task_prompt + f\"Email: {email}; Label:\"\n",
    "    messages = [\n",
    "        {\"role\": \"system\", \"content\": system_prompt},\n",
    "        {\"role\": \"user\", \"content\": task_prompt_}\n",
    "        ]\n",
    "    response = client.chat.completions.create(\n",
    "        model=model,\n",
    "        messages=messages,\n",
    "        temperature=temperature,\n",
    "    )\n",
    "    return response.choices[0].message.content"
   ]
  },
  {
   "cell_type": "code",
   "execution_count": 9,
   "metadata": {},
   "outputs": [],
   "source": [
    "label = chat_gpt_label(test_data[0]['content'])"
   ]
  },
  {
   "cell_type": "code",
   "execution_count": 10,
   "metadata": {},
   "outputs": [
    {
     "data": {
      "text/plain": [
       "{'Spam': 'No',\n",
       " 'Subject': 'WELLS GARDNER DISPLAYS',\n",
       " 'Sender': 'BERT::MEYETTE',\n",
       " 'send_date': '1992-02-04',\n",
       " 'Time_Sensitive': 'Yes',\n",
       " 'Start': '1992-02-18',\n",
       " 'End': '1992-02-18',\n",
       " 'Type': 'Event',\n",
       " 'Category': 'Work',\n",
       " 'Format': 'In-person',\n",
       " 'Location': 'Wells Gardner',\n",
       " 'Action_Required': 'Yes',\n",
       " 'Priority_Level': 'High'}"
      ]
     },
     "execution_count": 10,
     "metadata": {},
     "output_type": "execute_result"
    }
   ],
   "source": [
    "json.loads(label)"
   ]
  },
  {
   "cell_type": "code",
   "execution_count": 11,
   "metadata": {},
   "outputs": [
    {
     "data": {
      "text/plain": [
       "{'Spam': 'No',\n",
       " 'Subject': 'WELLS GARDNER DISPLAYS',\n",
       " 'Sender': 'BERT::MEYETTE',\n",
       " 'send_date': '1992-02-04',\n",
       " 'Time_Sensitive': 'Yes',\n",
       " 'Start': '1992-02-18 00:00',\n",
       " 'End': '',\n",
       " 'Type': 'Reminder',\n",
       " 'Category': 'Work',\n",
       " 'Format': 'In-person',\n",
       " 'Location': 'Wells Gardner',\n",
       " 'Action_Required': 'Yes',\n",
       " 'Priority_Level': 'High'}"
      ]
     },
     "execution_count": 11,
     "metadata": {},
     "output_type": "execute_result"
    }
   ],
   "source": [
    "test_data[0]['label']"
   ]
  },
  {
   "cell_type": "markdown",
   "metadata": {},
   "source": [
    "## Method 1: GPT with instructions + examples"
   ]
  },
  {
   "cell_type": "code",
   "execution_count": 21,
   "metadata": {},
   "outputs": [],
   "source": [
    "system_prompt_eg = \"\"\"You are a personal secretary. You are an expert of analyzing emails and summarize\n",
    "them into required form.\n",
    "\"\"\"\n",
    "\n",
    "task_prompt_eg = f\"\"\"Your task is to analyze received emails and label them into the following template:\n",
    "{{\n",
    "    \"Spam\": \"Yes\" / \"No\",\n",
    "    \"Subject\": \"string\",\n",
    "    \"Sender\": \"string\",\n",
    "    \"send_date\": \"YYYY-MM-DD\",\n",
    "    \"Time_Sensitive\": \"Yes\" / \"No\",\n",
    "    \"Start\": \"YYYY-MM-DD HH:MM\",\n",
    "    \"End\": \"YYYY-MM-DD HH:MM\",\n",
    "    \"Type\": \"Event\" / \"Reminder\" / \"N/A\",\n",
    "    \"Category\": \"Work\" / \"Study\" / \"Leisure\",\n",
    "    \"Format\": \"Online\" / \"In-person\",\n",
    "    \"Location\": \"string\",\n",
    "    \"Action_Required\": \"Yes\" / \"No\",\n",
    "    \"Priority_Level\": \"Low\" / \"Medium\" / \"High\" / \"Urgent\"\n",
    "}}\n",
    "\n",
    "### Instructions:\n",
    "1. Every key in the template is required, and the value for each key must be provided.\n",
    "2. Use the following formats:\n",
    "   - **Time**: 'YYYY-MM-DD HH:MM' (e.g., '1992-01-10 15:30')\n",
    "   - **Date**: 'YYYY-MM-DD' (e.g., '1992-01-10')\n",
    "3. Analyze the email content carefully to extract the appropriate values for each field.\n",
    "4. Email with only a start stamp is more likely a reminder; with both start and end stamp is an event\n",
    "\n",
    "Here are some examples for reference:\n",
    "\n",
    "Email: {train_data[0][\"content\"]}\n",
    "Label: {train_data[0][\"label\"]}\n",
    "\n",
    "Email: {train_data[1][\"content\"]}\n",
    "Label: {train_data[1][\"label\"]}\n",
    "\n",
    "Email: {train_data[2][\"content\"]}\n",
    "Label: {train_data[2][\"label\"]}\n",
    "\n",
    "Email: {train_data[3][\"content\"]}\n",
    "Label: {train_data[3][\"label\"]}\n",
    "\n",
    "Email: {train_data[4][\"content\"]}\n",
    "Label: {train_data[4][\"label\"]}\n",
    "\"\"\""
   ]
  },
  {
   "cell_type": "code",
   "execution_count": 22,
   "metadata": {},
   "outputs": [],
   "source": [
    "def chat_gpt_label_eg(email, temperature=1.0, model=model_name):\n",
    "    '''\n",
    "    prompt: \n",
    "    model: \n",
    "    '''\n",
    "    task_prompt_ = task_prompt_eg + f\"Email: {email}; Label:\"\n",
    "    messages = [\n",
    "        {\"role\": \"system\", \"content\": system_prompt_eg},\n",
    "        {\"role\": \"user\", \"content\": task_prompt_}\n",
    "        ]\n",
    "    response = client.chat.completions.create(\n",
    "        model=model,\n",
    "        messages=messages,\n",
    "        temperature=temperature,\n",
    "    )\n",
    "    return response.choices[0].message.content"
   ]
  },
  {
   "cell_type": "code",
   "execution_count": 23,
   "metadata": {},
   "outputs": [],
   "source": [
    "label_eg = chat_gpt_label_eg(test_data[0]['content'])"
   ]
  },
  {
   "cell_type": "code",
   "execution_count": 24,
   "metadata": {},
   "outputs": [
    {
     "data": {
      "text/plain": [
       "{'Spam': 'No',\n",
       " 'Subject': 'Wells Gardner Displays',\n",
       " 'Sender': 'Rick',\n",
       " 'send_date': '1992-02-04',\n",
       " 'Time_Sensitive': 'Yes',\n",
       " 'Start': '1992-02-18 00:00',\n",
       " 'End': '',\n",
       " 'Type': 'Reminder',\n",
       " 'Category': 'Work',\n",
       " 'Format': 'In-person',\n",
       " 'Location': 'Wells Gardner',\n",
       " 'Action_Required': 'Yes',\n",
       " 'Priority_Level': 'High'}"
      ]
     },
     "execution_count": 24,
     "metadata": {},
     "output_type": "execute_result"
    }
   ],
   "source": [
    "json.loads(label_eg)"
   ]
  },
  {
   "cell_type": "code",
   "execution_count": 25,
   "metadata": {},
   "outputs": [
    {
     "data": {
      "text/plain": [
       "{'Spam': 'No',\n",
       " 'Subject': 'WELLS GARDNER DISPLAYS',\n",
       " 'Sender': 'BERT::MEYETTE',\n",
       " 'send_date': '1992-02-04',\n",
       " 'Time_Sensitive': 'Yes',\n",
       " 'Start': '1992-02-18 00:00',\n",
       " 'End': '',\n",
       " 'Type': 'Reminder',\n",
       " 'Category': 'Work',\n",
       " 'Format': 'In-person',\n",
       " 'Location': 'Wells Gardner',\n",
       " 'Action_Required': 'Yes',\n",
       " 'Priority_Level': 'High'}"
      ]
     },
     "execution_count": 25,
     "metadata": {},
     "output_type": "execute_result"
    }
   ],
   "source": [
    "test_data[0]['label']"
   ]
  },
  {
   "cell_type": "code",
   "execution_count": null,
   "metadata": {},
   "outputs": [],
   "source": []
  }
 ],
 "metadata": {
  "kernelspec": {
   "display_name": "nlp",
   "language": "python",
   "name": "python3"
  },
  "language_info": {
   "codemirror_mode": {
    "name": "ipython",
    "version": 3
   },
   "file_extension": ".py",
   "mimetype": "text/x-python",
   "name": "python",
   "nbconvert_exporter": "python",
   "pygments_lexer": "ipython3",
   "version": "3.10.14"
  }
 },
 "nbformat": 4,
 "nbformat_minor": 2
}
