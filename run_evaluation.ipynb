{
 "cells": [
  {
   "cell_type": "markdown",
   "metadata": {},
   "source": [
    "## This is a the script to evaluate methods\n",
    "1. Run method i on test examples\n",
    "2. The results will be stored in json file\n",
    "3. Evaluate results statistics\n",
    "4. Repeat 1-3"
   ]
  },
  {
   "cell_type": "code",
   "execution_count": 46,
   "metadata": {},
   "outputs": [],
   "source": [
    "import re\n",
    "import json\n",
    "import os\n",
    "import ast\n",
    "import random\n",
    "from datetime import datetime\n",
    "from openai import OpenAI\n",
    "from dotenv import load_dotenv\n",
    "from utils.labeling_utils import re_analyze_email, gpt_label, gpt_label_eg, gpt_label_ft\n",
    "from utils.evaluation_utils import evaluate_label_single, calculate_overall_metrics"
   ]
  },
  {
   "cell_type": "code",
   "execution_count": 47,
   "metadata": {},
   "outputs": [],
   "source": [
    "test_data_path = \"./data/PAIRED_test.json\"\n",
    "with open(test_data_path, 'r') as file:\n",
    "    test_data = json.load(file)\n",
    "\n",
    "train_data_path = \"./data/PAIRED_train.json\"\n",
    "with open(train_data_path, 'r') as file:\n",
    "    train_data = json.load(file)"
   ]
  },
  {
   "cell_type": "code",
   "execution_count": 48,
   "metadata": {},
   "outputs": [],
   "source": [
    "default_weights = {\n",
    "    \"Time_Sensitive\": 0.2,\n",
    "    \"Type\": 0.15,\n",
    "    \"Category\": 0.15,\n",
    "    \"Format\": 0.1,\n",
    "    \"Time Period\": 0.2,\n",
    "    \"Priority_Level\": 0.2,\n",
    "}\n",
    "\n",
    "weights = {\n",
    "    \"Time_Sensitive\": 0.2,\n",
    "    \"Type\": 0.1,\n",
    "    \"Category\": 0.1,\n",
    "    \"Format\": 0.1,\n",
    "    \"Time Period\": 0.4,\n",
    "    \"Priority_Level\": 0.1,\n",
    "}"
   ]
  },
  {
   "cell_type": "code",
   "execution_count": 49,
   "metadata": {},
   "outputs": [],
   "source": [
    "def parse_label(label):\n",
    "    \"\"\"\n",
    "    Detects the type of `label` and processes it accordingly.\n",
    "    \n",
    "    Parameters:\n",
    "        label (str or dict): Input label to process.\n",
    "    \n",
    "    Returns:\n",
    "        dict: A valid label dictionary, or a default label if input is invalid.\n",
    "    \"\"\"\n",
    "    default_label = {\n",
    "        \"Spam\": \"No\",\n",
    "        \"Subject\": \"Default Evaluation Label\",\n",
    "        \"Sender\": \"\",\n",
    "        \"send_date\": \"\",\n",
    "        \"Time_Sensitive\": \"No\",\n",
    "        \"Start\": \"\",\n",
    "        \"End\": \"\",\n",
    "        \"Type\": \"N/A\",\n",
    "        \"Category\": \"N/A\",\n",
    "        \"Format\": \"N/A\",\n",
    "        \"Location\": \"\",\n",
    "        \"Action_Required\": \"No\",\n",
    "        \"Priority_Level\": \"N/A\"\n",
    "    }\n",
    "\n",
    "    if isinstance(label, str):\n",
    "        try:\n",
    "            # Try parsing the string into a dictionary\n",
    "            label = ast.literal_eval(label)\n",
    "        except (ValueError, SyntaxError):\n",
    "            # Return default label if parsing fails\n",
    "            return default_label\n",
    "\n",
    "    if isinstance(label, dict):\n",
    "        # Ensure it is a valid dictionary\n",
    "        return label\n",
    "    \n",
    "    # If neither string nor dictionary, return the default label\n",
    "    return default_label"
   ]
  },
  {
   "cell_type": "code",
   "execution_count": 50,
   "metadata": {},
   "outputs": [
    {
     "data": {
      "text/plain": [
       "{'Binary Metrics': {'Spam': {'ACC': 1.0, 'F1': 1.0, 'Recall': 1.0},\n",
       "  'Time_Sensitive': {'ACC': 1.0, 'F1': 1.0, 'Recall': 1.0}},\n",
       " 'Categorical Metrics': {'Time Period': 1.0,\n",
       "  'Type': 1.0,\n",
       "  'Category': 1.0,\n",
       "  'Format': 1.0,\n",
       "  'Priority_Level': 1.0},\n",
       " 'Averaged Weighted Score': 1.0}"
      ]
     },
     "execution_count": 50,
     "metadata": {},
     "output_type": "execute_result"
    }
   ],
   "source": [
    "## Test evaluation metrics\n",
    "regex_results = []\n",
    "for data in test_data:\n",
    "    result = evaluate_label_single(data['label'], data['label'], weights=weights)\n",
    "    regex_results.append(result)\n",
    "calculate_overall_metrics(regex_results)"
   ]
  },
  {
   "cell_type": "markdown",
   "metadata": {},
   "source": [
    "## 1. REGEX baseline\n",
    "\n",
    "Very hard to use REGEX to catch natural language time expressions"
   ]
  },
  {
   "cell_type": "code",
   "execution_count": 51,
   "metadata": {},
   "outputs": [],
   "source": [
    "regex_save_path = \"./test/EVAL_regex_baseline.json\""
   ]
  },
  {
   "cell_type": "code",
   "execution_count": 52,
   "metadata": {},
   "outputs": [],
   "source": [
    "regex_results = []\n",
    "save_results = []\n",
    "for data in test_data:\n",
    "    label = re_analyze_email(data['content']) \n",
    "    label = parse_label(label)\n",
    "    result = evaluate_label_single(label, data['label'],weights=weights)\n",
    "    regex_results.append(result)\n",
    "    save_results.append({\n",
    "        \"content\": data['content'],\n",
    "        \"pred_label\": label,\n",
    "        \"true_label\": data['label'],\n",
    "        \"result\": result\n",
    "    })"
   ]
  },
  {
   "cell_type": "code",
   "execution_count": 53,
   "metadata": {},
   "outputs": [],
   "source": [
    "metrics = calculate_overall_metrics(regex_results)\n",
    "eval_regex = {\n",
    "    \"eval\": save_results,\n",
    "    \"metrics\": metrics\n",
    "}\n",
    "with open(regex_save_path,\"w\") as f:\n",
    "    json.dump(eval_regex, f, indent=4)"
   ]
  },
  {
   "cell_type": "code",
   "execution_count": 54,
   "metadata": {},
   "outputs": [
    {
     "data": {
      "text/plain": [
       "{'Binary Metrics': {'Spam': {'ACC': 0.56,\n",
       "   'F1': 0.717948717948718,\n",
       "   'Recall': 0.56},\n",
       "  'Time_Sensitive': {'ACC': 0.0, 'F1': 0.0, 'Recall': 0.0}},\n",
       " 'Categorical Metrics': {'Time Period': 0.36,\n",
       "  'Type': 0.44,\n",
       "  'Category': 0.4,\n",
       "  'Format': 0.44,\n",
       "  'Priority_Level': 0.24},\n",
       " 'Averaged Weighted Score': 0.16400000000000003}"
      ]
     },
     "execution_count": 54,
     "metadata": {},
     "output_type": "execute_result"
    }
   ],
   "source": [
    "metrics"
   ]
  },
  {
   "cell_type": "markdown",
   "metadata": {},
   "source": [
    "## 2. GPT with prompt"
   ]
  },
  {
   "cell_type": "code",
   "execution_count": 55,
   "metadata": {},
   "outputs": [],
   "source": [
    "load_dotenv()\n",
    "# Load the key to call the client.\n",
    "client = OpenAI()\n",
    "model_name=\"gpt-4o-mini\""
   ]
  },
  {
   "cell_type": "code",
   "execution_count": 56,
   "metadata": {},
   "outputs": [],
   "source": [
    "gpt_prompt_save_path = \"./test/EVAL_prompt_baseline.json\""
   ]
  },
  {
   "cell_type": "code",
   "execution_count": 57,
   "metadata": {},
   "outputs": [],
   "source": [
    "prompt_results = []\n",
    "save_results = []\n",
    "for data in test_data:\n",
    "    label = gpt_label(client, data['content'], temperature=0.7, model=model_name)\n",
    "    # label = ast.literal_eval(label)\n",
    "    label = parse_label(label)\n",
    "    result = evaluate_label_single(label, data['label'],weights=weights)\n",
    "    prompt_results.append(result)\n",
    "    save_results.append({\n",
    "        \"content\": data['content'],\n",
    "        \"pred_label\": label,\n",
    "        \"true_label\": data['label'],\n",
    "        \"result\": result\n",
    "    })"
   ]
  },
  {
   "cell_type": "code",
   "execution_count": 58,
   "metadata": {},
   "outputs": [],
   "source": [
    "metrics = calculate_overall_metrics(prompt_results)\n",
    "eval_prompt = {\n",
    "    \"eval\": save_results,\n",
    "    \"metrics\": metrics\n",
    "}\n",
    "with open(gpt_prompt_save_path,\"w\") as f:\n",
    "    json.dump(eval_prompt, f, indent=4)"
   ]
  },
  {
   "cell_type": "markdown",
   "metadata": {},
   "source": [
    "## 3. GPT prompt with examples"
   ]
  },
  {
   "cell_type": "code",
   "execution_count": 59,
   "metadata": {},
   "outputs": [],
   "source": [
    "gpt_prompt_eg_save_path = \"./test/EVAL_prompt_eg.json\""
   ]
  },
  {
   "cell_type": "code",
   "execution_count": 60,
   "metadata": {},
   "outputs": [],
   "source": [
    "prompt_results = []\n",
    "save_results = []\n",
    "for data in test_data:\n",
    "    label = gpt_label_eg(client, data['content'], train_data, temperature=0.7, model=model_name)\n",
    "    # label = ast.literal_eval(label)\n",
    "    label = parse_label(label)\n",
    "    result = evaluate_label_single(label, data['label'],weights=weights)\n",
    "    prompt_results.append(result)\n",
    "    save_results.append({\n",
    "        \"content\": data['content'],\n",
    "        \"pred_label\": label,\n",
    "        \"true_label\": data['label'],\n",
    "        \"result\": result\n",
    "    })\n",
    "    random.shuffle(train_data)"
   ]
  },
  {
   "cell_type": "code",
   "execution_count": 61,
   "metadata": {},
   "outputs": [],
   "source": [
    "metrics = calculate_overall_metrics(prompt_results)\n",
    "eval_prompt = {\n",
    "    \"eval\": save_results,\n",
    "    \"metrics\": metrics\n",
    "}\n",
    "with open(gpt_prompt_eg_save_path,\"w\") as f:\n",
    "    json.dump(eval_prompt, f, indent=4)"
   ]
  },
  {
   "cell_type": "markdown",
   "metadata": {},
   "source": [
    "## 4. Fine-tuned Model"
   ]
  },
  {
   "cell_type": "code",
   "execution_count": 62,
   "metadata": {},
   "outputs": [],
   "source": [
    "gpt_prompt_ft_save_path = \"./test/EVAL_prompt_ft.json\"\n",
    "ft_model_name = \"ft:gpt-4o-mini-2024-07-18:personal:ft-schedular:AXN6Qt3B\""
   ]
  },
  {
   "cell_type": "code",
   "execution_count": 63,
   "metadata": {},
   "outputs": [],
   "source": [
    "prompt_results = []\n",
    "save_results = []\n",
    "for data in test_data:\n",
    "    label = gpt_label_ft(client, data['content'], temperature=0.7, model=ft_model_name)\n",
    "    # label = ast.literal_eval(label)\n",
    "    label = parse_label(label)\n",
    "    result = evaluate_label_single(label, data['label'],weights=weights)\n",
    "    prompt_results.append(result)\n",
    "    save_results.append({\n",
    "        \"content\": data['content'],\n",
    "        \"pred_label\": label,\n",
    "        \"true_label\": data['label'],\n",
    "        \"result\": result\n",
    "    })\n",
    "\n",
    "metrics = calculate_overall_metrics(prompt_results)\n",
    "eval_prompt = {\n",
    "    \"eval\": save_results,\n",
    "    \"metrics\": metrics\n",
    "}\n",
    "with open(gpt_prompt_ft_save_path,\"w\") as f:\n",
    "    json.dump(eval_prompt, f, indent=4)"
   ]
  },
  {
   "cell_type": "code",
   "execution_count": null,
   "metadata": {},
   "outputs": [],
   "source": []
  }
 ],
 "metadata": {
  "kernelspec": {
   "display_name": "nlp",
   "language": "python",
   "name": "python3"
  },
  "language_info": {
   "codemirror_mode": {
    "name": "ipython",
    "version": 3
   },
   "file_extension": ".py",
   "mimetype": "text/x-python",
   "name": "python",
   "nbconvert_exporter": "python",
   "pygments_lexer": "ipython3",
   "version": "3.10.14"
  }
 },
 "nbformat": 4,
 "nbformat_minor": 2
}
