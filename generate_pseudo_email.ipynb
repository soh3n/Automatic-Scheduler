{
 "cells": [
  {
   "cell_type": "code",
   "execution_count": 25,
   "metadata": {},
   "outputs": [],
   "source": [
    "import os\n",
    "from openai import OpenAI\n",
    "from dotenv import load_dotenv\n",
    "import random\n",
    "import json\n",
    "from datetime import datetime, timedelta\n",
    "from utils.generation_utils import generate_prompt, label2email"
   ]
  },
  {
   "cell_type": "code",
   "execution_count": null,
   "metadata": {},
   "outputs": [],
   "source": [
    "# Load the environment variables from the .env file\n",
    "# In this .env, it contains openai's API Key.\n",
    "load_dotenv()\n",
    "# Load the key to call the client.\n",
    "client = OpenAI()\n",
    "model_name=\"gpt-4o-mini\"\n",
    "# model_name=\"gpt-4o\""
   ]
  },
  {
   "cell_type": "code",
   "execution_count": 30,
   "metadata": {},
   "outputs": [
    {
     "name": "stdout",
     "output_type": "stream",
     "text": [
      "{'Spam': 'No', 'Subject': 'Briefint session changed to 9:30 this morning', 'Sender': \"Mia O'Connor\", 'send_date': '2024-11-11', 'Time_Sensitive': 'Yes', 'Start': '2024-11-11 09:30', 'End': '2024-11-11 10:00', 'Type': 'Event', 'Category': 'Work', 'Format': 'Online', 'Location': 'Microsoft Teams', 'Action_Required': 'Yes', 'Priority_Level': 'Urgent'}\n"
     ]
    }
   ],
   "source": [
    "pseudo_labels = \"./data/pseudo_email_labels_refined_manually.json\"\n",
    "with open(pseudo_labels, 'r') as file:\n",
    "    data = json.load(file)\n",
    "\n",
    "# Now 'data' holds the content of the JSON file as a Python dictionary\n",
    "print(data[0])"
   ]
  },
  {
   "cell_type": "code",
   "execution_count": 31,
   "metadata": {},
   "outputs": [
    {
     "data": {
      "text/plain": [
       "'From: Mia O’Connor  \\nDate: November 11, 2024  \\nSubject: Briefing Session Changed to 9:30 This Morning  \\n\\nDear Team,\\n\\nI hope this message reaches you in time. Please note that the briefing session originally scheduled for today has been adjusted. We will now meet online from 9:30 AM to 10:00 AM, via Microsoft Teams.\\n\\nTo ensure a seamless session, please confirm your attendance at your earliest convenience. Should you have any inquiries or require assistance with accessing the session, feel free to reach out.\\n\\nThank you for your prompt attention to this change.\\n\\nBest regards,  \\nMia O’Connor  '"
      ]
     },
     "execution_count": 31,
     "metadata": {},
     "output_type": "execute_result"
    }
   ],
   "source": [
    "label2email(data[0], client, temperature=0.7, model=model_name)"
   ]
  },
  {
   "cell_type": "code",
   "execution_count": 32,
   "metadata": {},
   "outputs": [],
   "source": [
    "# Define the input and output paths\n",
    "output_email_dir = \"./data/pseudo_emails\"  # Directory to store pseudo email files\n",
    "output_json_path = f\"./data/PAIRED_{model_name}_pseudo_emails.json\"  # Final JSON file with three entries\n",
    "# data_test = data[:3]"
   ]
  },
  {
   "cell_type": "code",
   "execution_count": 33,
   "metadata": {},
   "outputs": [],
   "source": [
    "paired_json = []\n",
    "for i in range(len(data[:3])):\n",
    "    email_file_path = os.path.join(output_email_dir, f\"{model_name}_{i+1}.txt\")\n",
    "    \n",
    "    # content = generate_email(data[i])\n",
    "    content = label2email(data[i], client, temperature=1.0, model=model_name)\n",
    "    with open(email_file_path, \"w\") as email_file:\n",
    "        email_file.write(content)\n",
    "    \n",
    "    paired_entry = {\n",
    "        \"path\": f\"./pseudo_emails/{model_name}_{i+1}.txt\",\n",
    "        \"content\": content,\n",
    "        \"label\": data[i]\n",
    "    }\n",
    "    paired_json.append(paired_entry)\n",
    "\n",
    "with open(output_json_path, \"w\") as output_file:\n",
    "    json.dump(paired_json, output_file, indent=4)"
   ]
  },
  {
   "cell_type": "code",
   "execution_count": null,
   "metadata": {},
   "outputs": [],
   "source": []
  },
  {
   "cell_type": "code",
   "execution_count": null,
   "metadata": {},
   "outputs": [],
   "source": []
  }
 ],
 "metadata": {
  "kernelspec": {
   "display_name": "nlp",
   "language": "python",
   "name": "python3"
  },
  "language_info": {
   "codemirror_mode": {
    "name": "ipython",
    "version": 3
   },
   "file_extension": ".py",
   "mimetype": "text/x-python",
   "name": "python",
   "nbconvert_exporter": "python",
   "pygments_lexer": "ipython3",
   "version": "3.10.14"
  }
 },
 "nbformat": 4,
 "nbformat_minor": 2
}
