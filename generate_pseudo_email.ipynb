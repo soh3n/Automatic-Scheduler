{
 "cells": [
  {
   "cell_type": "code",
   "execution_count": 15,
   "metadata": {},
   "outputs": [],
   "source": [
    "import os\n",
    "from openai import OpenAI\n",
    "from dotenv import load_dotenv\n",
    "import random\n",
    "import json\n",
    "from datetime import datetime, timedelta"
   ]
  },
  {
   "cell_type": "code",
   "execution_count": 16,
   "metadata": {},
   "outputs": [],
   "source": [
    "# Load the environment variables from the .env file\n",
    "# In this .env, it contains openai's API Key.\n",
    "load_dotenv()\n",
    "# Load the key to call the client.\n",
    "client = OpenAI()"
   ]
  },
  {
   "cell_type": "code",
   "execution_count": 79,
   "metadata": {},
   "outputs": [],
   "source": [
    "def get_completion(sys_prompt, prompt, temperature=0.7, model=\"gpt-4o-mini\"):\n",
    "    '''\n",
    "    prompt: \n",
    "    model: \n",
    "    '''\n",
    "    messages = [\n",
    "        {\"role\": \"system\", \"content\": sys_prompt},\n",
    "        {\"role\": \"user\", \"content\": prompt}\n",
    "        ]\n",
    "    response = client.chat.completions.create(\n",
    "        model=model,\n",
    "        messages=messages,\n",
    "        temperature=temperature,\n",
    "    )\n",
    "    # 调用 OpenAI 的 ChatCompletion 接口\n",
    "    # return response.choices[0].message[\"content\"]\n",
    "    return response.choices[0].message.content"
   ]
  },
  {
   "cell_type": "code",
   "execution_count": 34,
   "metadata": {},
   "outputs": [
    {
     "name": "stdout",
     "output_type": "stream",
     "text": [
      "{'Spam': 'No', 'Subject': 'Briefint session changed to 9:30 this morning', 'Sender': \"Mia O'Connor\", 'Time_Sensitive': 'Yes', 'Start': '2024-11-11 09:30', 'End': '2024-11-11 10:00', 'Type': 'Event', 'Category': 'Work', 'Format': 'Online', 'Location': 'Microsoft Teams', 'Action_Required': 'Yes', 'Priority_Level': 'Urgent'}\n"
     ]
    }
   ],
   "source": [
    "pseudo_labels = \"./data/pseudo_email_labels_refined_manually.json\"\n",
    "with open(pseudo_labels, 'r') as file:\n",
    "    data = json.load(file)\n",
    "\n",
    "# Now 'data' holds the content of the JSON file as a Python dictionary\n",
    "print(data[0])"
   ]
  },
  {
   "cell_type": "code",
   "execution_count": 59,
   "metadata": {},
   "outputs": [],
   "source": [
    "def label_to_prompt(entry):\n",
    "    email_info = f\"\"\"\n",
    "    You will write this email about {entry['Category']} as {entry['Sender']}. \\\n",
    "    The subject of the email is: \"{entry['Subject']}\"; \\\n",
    "    Is this email time-sensitive? {entry['Time_Sensitive']}; \\\n",
    "    (Don't mention time-sensitivity explicitly); \\\n",
    "    The session will start at {entry['Start']} and end at {entry['End']}. \\\n",
    "    (If the timestamp is given, make sure to include the date and time in the email in a natural way.) \\\n",
    "    This is a {entry['Format']} item held in {entry['Location']}. \\\n",
    "    Do you expect any kind of action (like reply, submission or others)? {entry['Action_Required']}. \\\n",
    "    (Ensure the email requests the recipients to take action if required (e.g., reply, confirm attendance, or ask questions).) \\\n",
    "    The urgency of this email is {entry['Priority_Level']}.\n",
    "    \"\"\"\n",
    "    return email_info"
   ]
  },
  {
   "cell_type": "markdown",
   "metadata": {},
   "source": [
    "## 1. Manually modify the emails\n",
    "## 2. Use labeled real emails as prompt as well\n",
    "## 3. Finish the prompt, test with GPT4o"
   ]
  },
  {
   "cell_type": "code",
   "execution_count": null,
   "metadata": {},
   "outputs": [],
   "source": [
    "eg_email_prompt0 = label_to_prompt(data[0])\n",
    "eg_email0 = f\"\"\"\n",
    "From:\tMia O’Connor           2024-11-11\n",
    "Subject: Briefing Session Changed to 9:30 This Morning\n",
    "\n",
    "Dear Team,\n",
    "\n",
    "Please be informed that the briefing session scheduled for today has been rescheduled. The session will now take place online via Microsoft Teams from 9:30 AM to 10:00 AM on Monday, November 11, 2024.\n",
    "To ensure everything runs smoothly, kindly confirm your attendance or reach out if you have any questions or concerns about accessing the session.\n",
    "Thank you for your prompt attention to this update.\n",
    "\n",
    "Best regards,\n",
    "Mia O’Connor\n",
    "\"\"\""
   ]
  },
  {
   "cell_type": "code",
   "execution_count": 96,
   "metadata": {},
   "outputs": [],
   "source": [
    "eg_email_prompt1 = label_to_prompt(data[10])\n",
    "eg_email1 = f\"\"\"\n",
    "From:\tHugo Dupont           2024-11-13\n",
    "Subject: Coffee Catch-Up with Hugo on November 16th!\n",
    "\n",
    "Hi,\n",
    "\n",
    "I hope this message finds you well! I’d love to invite you to a coffee catch-up on Saturday, November 16, 2024, from 9:00 AM to 10:45 AM. We’ll meet in person at Starbucks in the Student Union\n",
    "This is a relaxed and informal gathering—feel free to drop by and enjoy a chat over coffee. No RSVP is required; just bring your great vibes and let’s have a wonderful time!\n",
    "Looking forward to seeing you there.\n",
    "\n",
    "Warm regards,\n",
    "Hugo Dupont\n",
    "\"\"\""
   ]
  },
  {
   "cell_type": "code",
   "execution_count": 97,
   "metadata": {},
   "outputs": [],
   "source": [
    "true_label0 = {\n",
    "    \"Spam\": \"No\",\n",
    "    \"Subject\": \"Walkabout Friday -- 1/10/92 -- 3:30-5:00\",\n",
    "    \"Sender\": \"GAWD RAY\",\n",
    "    \"send_date\": \"1992-01-06\",\n",
    "    \"Time_Sensitive\": \"Yes\",\n",
    "    \"Start\": \"1992-01-10 15:30\",\n",
    "    \"End\": \"1992-01-10 17:00\",\n",
    "    \"Type\": \"Event\",\n",
    "    \"Category\": \"Work\",\n",
    "    \"Format\": \"In-Person\",\n",
    "    \"Location\": \"Alpha, Nu, Omega Labs\",\n",
    "    \"Action_Required\": \"No\",\n",
    "    \"Priority_Level\": \"Medium\"\n",
    "}\n",
    "true_label_prompt0 = label_to_prompt(true_label0)\n",
    "true_email0 = f\"\"\"\n",
    "From:\tGAWD::RAY           6-JAN-1992 09:20:55.68\n",
    "Subj:\tWalkabout Friday -- 1/10/92 -- 3:30-5:00\n",
    "\n",
    "     Dennis Harper and the Moto Mania team will be hosting this week's \n",
    "Walkabout Friday. \n",
    " \n",
    "     The festivities will begin at 3:30 in the Alpha, Nu, and\n",
    "Omega labs in Engineering. Please come by the labs, sample the\n",
    "munchies, play the games, and give your feedback (positive and\n",
    "negative).\n",
    "\n",
    "                       Friday, Jan. 10, 1992\n",
    "                        3:30 - 5:00 p.m.\n",
    "                      Alpha, Nu, Omega Labs\n",
    "\"\"\""
   ]
  },
  {
   "cell_type": "code",
   "execution_count": null,
   "metadata": {},
   "outputs": [],
   "source": [
    "true_label1 = {\n",
    "    \"Spam\": \"No\",\n",
    "    \"Subject\": \"New telephone system/New area code\",\n",
    "    \"Sender\": \"KIM ESTRADA\",\n",
    "    \"send_date\": \"1992-01-24\",\n",
    "    \"Time_Sensitive\": \"Yes\",\n",
    "    \"Start\": \"1992-01-27 00:00\",\n",
    "    \"End\": \"1992-04-17 23:59\",\n",
    "    \"Type\": \"Update\",\n",
    "    \"Category\": \"Work\",\n",
    "    \"Format\": \"Email\",\n",
    "    \"Location\": \"N/A\",\n",
    "    \"Action_Required\": \"Yes\",\n",
    "    \"Priority_Level\": \"High\"\n",
    "}\n",
    "\n",
    "true_label_prompt1 = label_to_prompt(true_label1)\n",
    "true_email1= f\"\"\"\n",
    "From:\tKIM::ESTRADA      24-JAN-1992 09:14:09.80\n",
    "Subj:\tNew telephone system/New area code.\n",
    "\n",
    "\n",
    "The installation of the new telephone system has been delayed until \n",
    "04/17/92, due to additional preparations that need to be made before \n",
    "the system can be installed.\n",
    "\n",
    "Effective January 27, 1992 calls dialed to the oakland/east bay area \n",
    "must include the 510 area code. Calls dialed without the 510 area code \n",
    "will not be complete, and callers will reach a recorded announcement \n",
    "with a reminder to dial  (510) before the 7 digit telephone number.\n",
    "\"\"\""
   ]
  },
  {
   "cell_type": "code",
   "execution_count": 103,
   "metadata": {},
   "outputs": [],
   "source": [
    "def generate_email(label):\n",
    "    email_prompt = label_to_prompt(label)\n",
    "    system_prompt = f\"\"\"\n",
    "    You are a professional email writer with expertise in crafting clear, concise,\\\n",
    "    and engaging emails for different purposes. You can write formal business emails, \\\n",
    "    friendly personal emails, academic based emails, and much more. \\\n",
    "    Your tone, structure, and content adapt based on the context and audience. \\\n",
    "    Be as nature as possible.\n",
    "    \"\"\"\n",
    "\n",
    "    # task_prompt = f\"\"\"\n",
    "    # Your task is to write an email based on a brief conclusion message. Here is an example: \\\n",
    "    # Email Conclusion: {eg_email_prompt0} \\\n",
    "    # Email: {eg_email0}; \\\n",
    "    # Email Conclusion: {eg_email_prompt1} \\\n",
    "    # Email: {eg_email1}\n",
    "    # Email Conclusion: {true_label_prompt0} \\\n",
    "    # Email: {true_email0}; \\\n",
    "    # Email Conclusion: {true_label_prompt1} \\\n",
    "    # Email: {true_email1}\n",
    "    # Email Conclusion: {email_prompt} \\\n",
    "    # Email: \n",
    "    # \"\"\"\n",
    "    task_prompt = f\"\"\"\n",
    "    Your task is to write an email based on a brief conclusion message. Here is an example: \\\n",
    "    Email Conclusion: {eg_email_prompt1} \\\n",
    "    Email: {eg_email1}\n",
    "    Email Conclusion: {true_label_prompt0} \\\n",
    "    Email: {true_email0}; \\\n",
    "    Email Conclusion: {true_label_prompt1} \\\n",
    "    Email: {true_email1}\n",
    "    Email Conclusion: {email_prompt} \\\n",
    "    Email: \n",
    "    \"\"\"\n",
    "\n",
    "    email_responce = get_completion(system_prompt, task_prompt, 1.0)\n",
    "\n",
    "    return email_responce"
   ]
  },
  {
   "cell_type": "code",
   "execution_count": 104,
   "metadata": {},
   "outputs": [
    {
     "data": {
      "text/plain": [
       "\"From: Mia O'Connor  \\nSent: November 11, 2024  \\nSubject: Briefing Session Changed to 9:30 This Morning  \\n\\nDear Team,\\n\\nI wanted to inform you that the briefing session has been rescheduled to start at 9:30 AM today. We will meet online via Microsoft Teams for approximately 30 minutes until 10:00 AM.\\n\\nPlease make sure to join on time as we have important topics to cover. Let me know if you have any questions or if there are issues joining.\\n\\nThank you for your understanding, and I look forward to seeing you all this morning.\\n\\nBest,  \\nMia O'Connor  \""
      ]
     },
     "execution_count": 104,
     "metadata": {},
     "output_type": "execute_result"
    }
   ],
   "source": [
    "generate_email(data[0])"
   ]
  },
  {
   "cell_type": "code",
   "execution_count": null,
   "metadata": {},
   "outputs": [],
   "source": []
  }
 ],
 "metadata": {
  "kernelspec": {
   "display_name": "nlp",
   "language": "python",
   "name": "python3"
  },
  "language_info": {
   "codemirror_mode": {
    "name": "ipython",
    "version": 3
   },
   "file_extension": ".py",
   "mimetype": "text/x-python",
   "name": "python",
   "nbconvert_exporter": "python",
   "pygments_lexer": "ipython3",
   "version": "3.10.14"
  }
 },
 "nbformat": 4,
 "nbformat_minor": 2
}
